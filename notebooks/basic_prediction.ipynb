{
 "cells": [
  {
   "cell_type": "code",
   "execution_count": 1,
   "metadata": {},
   "outputs": [],
   "source": [
    "import numpy as np\n",
    "import pandas as pd\n",
    "# from sklearn.preprocessing import\n",
    "from sklearn.model_selection import train_test_split\n",
    "from random import randint\n",
    "import sklearn.metrics as skm\n",
    "from xgboost import XGBClassifier\n",
    "import xgboost as xgb\n",
    "from sklearn.metrics import roc_curve\n",
    "from matplotlib import pyplot as plt"
   ]
  },
  {
   "cell_type": "code",
   "execution_count": 2,
   "metadata": {},
   "outputs": [],
   "source": [
    "def replace_rare_entries(df, columns, threshold_frac):\n",
    "    tot_instances = df.shape[0]\n",
    "    threshold = tot_instances * threshold_frac\n",
    "    df = df.apply(lambda x: x.mask(x.map(x.value_counts()) < threshold, 'RARE') if x.name in columns else x)\n",
    "    return df\n",
    "    "
   ]
  },
  {
   "cell_type": "code",
   "execution_count": 21,
   "metadata": {},
   "outputs": [],
   "source": [
    "categoricals = ['OP_UNIQUE_CARRIER', 'DEST', 'DEP_TIME_BLK', 'DAY_OF_MONTH', 'DAY_OF_WEEK', 'MONTH']\n",
    "targets = ['DEP_DELAY_NEW', 'DEP_DEL15']"
   ]
  },
  {
   "cell_type": "code",
   "execution_count": 22,
   "metadata": {},
   "outputs": [],
   "source": [
    "df = pd.read_csv('/home/dbeiski/Project/FlightDelay/Data/new_york/year_lga_dep.csv')"
   ]
  },
  {
   "cell_type": "code",
   "execution_count": 23,
   "metadata": {},
   "outputs": [],
   "source": [
    "data = df.drop([col for col in df.columns if col not in categoricals], axis=1)\n",
    "data = replace_rare_entries(data, ['DEST'], 0.005)\n",
    "data = replace_rare_entries(data, ['UNIQUE_CARRIER'], 0.005)\n",
    "data = pd.get_dummies(data, columns=categoricals)\n",
    "label = df['DEP_DEL15']"
   ]
  },
  {
   "cell_type": "code",
   "execution_count": 24,
   "metadata": {
    "scrolled": true
   },
   "outputs": [
    {
     "data": {
      "text/plain": [
       "Index(['OP_UNIQUE_CARRIER_9E', 'OP_UNIQUE_CARRIER_AA', 'OP_UNIQUE_CARRIER_B6',\n",
       "       'OP_UNIQUE_CARRIER_DL', 'OP_UNIQUE_CARRIER_EV', 'OP_UNIQUE_CARRIER_F9',\n",
       "       'OP_UNIQUE_CARRIER_MQ', 'OP_UNIQUE_CARRIER_NK', 'OP_UNIQUE_CARRIER_OH',\n",
       "       'OP_UNIQUE_CARRIER_OO',\n",
       "       ...\n",
       "       'MONTH_3', 'MONTH_4', 'MONTH_5', 'MONTH_6', 'MONTH_7', 'MONTH_8',\n",
       "       'MONTH_9', 'MONTH_10', 'MONTH_11', 'MONTH_12'],\n",
       "      dtype='object', length=135)"
      ]
     },
     "execution_count": 24,
     "metadata": {},
     "output_type": "execute_result"
    }
   ],
   "source": [
    "data.columns"
   ]
  },
  {
   "cell_type": "code",
   "execution_count": 25,
   "metadata": {
    "scrolled": true
   },
   "outputs": [],
   "source": [
    "data = data[~label.isna()]\n",
    "label = label[~label.isna()]"
   ]
  },
  {
   "cell_type": "code",
   "execution_count": 26,
   "metadata": {},
   "outputs": [
    {
     "name": "stdout",
     "output_type": "stream",
     "text": [
      "Rows: 181088\n",
      "Features: 135\n",
      "Label-1 Fraction: 0.21473537727513695\n"
     ]
    }
   ],
   "source": [
    "print('Rows: {}\\nFeatures: {}\\nLabel-1 Fraction: {}'\n",
    "      .format(data.shape[0], data.shape[1], label.sum() / label.shape[0]))"
   ]
  },
  {
   "cell_type": "code",
   "execution_count": 27,
   "metadata": {},
   "outputs": [],
   "source": [
    "thres = np.linspace(0, 1, 500)"
   ]
  },
  {
   "cell_type": "code",
   "execution_count": 28,
   "metadata": {},
   "outputs": [],
   "source": [
    "x, x_test, y, y_test = train_test_split(data, label, test_size=0.2, \n",
    "                                                        random_state=randint(1, 500),\n",
    "                                                        stratify=label)"
   ]
  },
  {
   "cell_type": "code",
   "execution_count": 29,
   "metadata": {},
   "outputs": [
    {
     "name": "stderr",
     "output_type": "stream",
     "text": [
      "/home/dbeiski/PycharmProjects/fl5/linear_models/venv3.5/lib/python3.5/site-packages/xgboost/core.py:587: FutureWarning: Series.base is deprecated and will be removed in a future version\n",
      "  if getattr(data, 'base', None) is not None and \\\n"
     ]
    }
   ],
   "source": [
    "x_train, x_val, y_train, y_val = train_test_split(x, y, test_size=0.2, \n",
    "                                                        random_state=randint(1, 500),\n",
    "                                                        stratify=y)\n",
    "Dtrain = xgb.DMatrix(x_train, label=y_train)\n",
    "Dval = xgb.DMatrix(x_val, label=y_val)"
   ]
  },
  {
   "cell_type": "code",
   "execution_count": 30,
   "metadata": {},
   "outputs": [
    {
     "data": {
      "text/plain": [
       "115896"
      ]
     },
     "execution_count": 30,
     "metadata": {},
     "output_type": "execute_result"
    }
   ],
   "source": [
    "y_train.shape[0]"
   ]
  },
  {
   "cell_type": "code",
   "execution_count": 31,
   "metadata": {},
   "outputs": [],
   "source": [
    "param = {                              # General guidelines for initial paramaters:\n",
    "    'min_child_weight': 1,             # 1 (choose small for high class imbalance)\n",
    "    'gamma': 0.3,                        # 0.1-0.2\n",
    "    'lambda': 0,  #1                     # L2 Regulariztion - default = 1\n",
    "    'scale_pos_weight': 4,             # 1 (choose small for high class imbalance)\n",
    "    'subsample': 0.6,                    # 0.5-0.9\n",
    "    'colsample_bytree': 0.8,             # 0.5-0.9\n",
    "    'colsample_bylevel': 0.7,              # 0.5-0.9\n",
    "    'max_depth': 6,  #5                  # 3-10 \n",
    "    'eta': 0.1,                        # 0.05-0.3\n",
    "    'silent': 0,                       # 0 - prints progress    1 - quiet\n",
    "    'objective': 'binary:logistic',        \n",
    "    'num_class': 1,             \n",
    "    'eval_metric': 'auc'}  \n",
    "num_round = 10000                                      # the number of training iterations if not stopped early\n",
    "evallist = [(Dtrain, 'train'), (Dval, 'eval')]        # Specify validation set to watch performance"
   ]
  },
  {
   "cell_type": "code",
   "execution_count": 32,
   "metadata": {
    "scrolled": true
   },
   "outputs": [
    {
     "name": "stdout",
     "output_type": "stream",
     "text": [
      "[0]\ttrain-auc:0.621038\teval-auc:0.616173\n",
      "Multiple eval metrics have been passed: 'eval-auc' will be used for early stopping.\n",
      "\n",
      "Will train until eval-auc hasn't improved in 10 rounds.\n",
      "[1]\ttrain-auc:0.658771\teval-auc:0.654173\n",
      "[2]\ttrain-auc:0.670372\teval-auc:0.663889\n",
      "[3]\ttrain-auc:0.675458\teval-auc:0.666975\n",
      "[4]\ttrain-auc:0.677271\teval-auc:0.669582\n",
      "[5]\ttrain-auc:0.679153\teval-auc:0.671813\n",
      "[6]\ttrain-auc:0.686922\teval-auc:0.680025\n",
      "[7]\ttrain-auc:0.690816\teval-auc:0.684448\n",
      "[8]\ttrain-auc:0.693169\teval-auc:0.686629\n",
      "[9]\ttrain-auc:0.697013\teval-auc:0.689789\n",
      "[10]\ttrain-auc:0.699125\teval-auc:0.69269\n",
      "[11]\ttrain-auc:0.703436\teval-auc:0.695803\n",
      "[12]\ttrain-auc:0.706726\teval-auc:0.699436\n",
      "[13]\ttrain-auc:0.7066\teval-auc:0.699369\n",
      "[14]\ttrain-auc:0.709893\teval-auc:0.701693\n",
      "[15]\ttrain-auc:0.713327\teval-auc:0.704496\n",
      "[16]\ttrain-auc:0.714491\teval-auc:0.705613\n",
      "[17]\ttrain-auc:0.715084\teval-auc:0.706284\n",
      "[18]\ttrain-auc:0.715888\teval-auc:0.706921\n",
      "[19]\ttrain-auc:0.719101\teval-auc:0.709335\n",
      "[20]\ttrain-auc:0.722355\teval-auc:0.712538\n",
      "[21]\ttrain-auc:0.724149\teval-auc:0.71433\n",
      "[22]\ttrain-auc:0.724191\teval-auc:0.714065\n",
      "[23]\ttrain-auc:0.726715\teval-auc:0.716719\n",
      "[24]\ttrain-auc:0.728347\teval-auc:0.718262\n",
      "[25]\ttrain-auc:0.728818\teval-auc:0.718503\n",
      "[26]\ttrain-auc:0.731818\teval-auc:0.720683\n",
      "[27]\ttrain-auc:0.733822\teval-auc:0.722219\n",
      "[28]\ttrain-auc:0.735392\teval-auc:0.723533\n",
      "[29]\ttrain-auc:0.737207\teval-auc:0.725174\n",
      "[30]\ttrain-auc:0.738965\teval-auc:0.726456\n",
      "[31]\ttrain-auc:0.740159\teval-auc:0.727224\n",
      "[32]\ttrain-auc:0.741441\teval-auc:0.728708\n",
      "[33]\ttrain-auc:0.74428\teval-auc:0.731485\n",
      "[34]\ttrain-auc:0.746198\teval-auc:0.732998\n",
      "[35]\ttrain-auc:0.746089\teval-auc:0.732585\n",
      "[36]\ttrain-auc:0.747009\teval-auc:0.733121\n",
      "[37]\ttrain-auc:0.748364\teval-auc:0.73431\n",
      "[38]\ttrain-auc:0.750507\teval-auc:0.736451\n",
      "[39]\ttrain-auc:0.751145\teval-auc:0.736874\n",
      "[40]\ttrain-auc:0.75165\teval-auc:0.736871\n",
      "[41]\ttrain-auc:0.752187\teval-auc:0.737324\n",
      "[42]\ttrain-auc:0.753076\teval-auc:0.738042\n",
      "[43]\ttrain-auc:0.753706\teval-auc:0.738509\n",
      "[44]\ttrain-auc:0.754294\teval-auc:0.738551\n",
      "[45]\ttrain-auc:0.754772\teval-auc:0.738983\n",
      "[46]\ttrain-auc:0.75535\teval-auc:0.739505\n",
      "[47]\ttrain-auc:0.755585\teval-auc:0.739593\n",
      "[48]\ttrain-auc:0.755682\teval-auc:0.739496\n",
      "[49]\ttrain-auc:0.756698\teval-auc:0.740428\n",
      "[50]\ttrain-auc:0.756694\teval-auc:0.740299\n",
      "[51]\ttrain-auc:0.75878\teval-auc:0.741956\n",
      "[52]\ttrain-auc:0.759249\teval-auc:0.742297\n",
      "[53]\ttrain-auc:0.760812\teval-auc:0.743709\n",
      "[54]\ttrain-auc:0.761813\teval-auc:0.744517\n",
      "[55]\ttrain-auc:0.762173\teval-auc:0.744906\n",
      "[56]\ttrain-auc:0.76304\teval-auc:0.745562\n",
      "[57]\ttrain-auc:0.764739\teval-auc:0.747099\n",
      "[58]\ttrain-auc:0.765541\teval-auc:0.74768\n",
      "[59]\ttrain-auc:0.766728\teval-auc:0.748807\n",
      "[60]\ttrain-auc:0.767365\teval-auc:0.749243\n",
      "[61]\ttrain-auc:0.767594\teval-auc:0.749596\n",
      "[62]\ttrain-auc:0.768277\teval-auc:0.750099\n",
      "[63]\ttrain-auc:0.769537\teval-auc:0.751151\n",
      "[64]\ttrain-auc:0.770489\teval-auc:0.752029\n",
      "[65]\ttrain-auc:0.77172\teval-auc:0.753254\n",
      "[66]\ttrain-auc:0.77213\teval-auc:0.753498\n",
      "[67]\ttrain-auc:0.772689\teval-auc:0.753645\n",
      "[68]\ttrain-auc:0.773373\teval-auc:0.754278\n",
      "[69]\ttrain-auc:0.774345\teval-auc:0.755101\n",
      "[70]\ttrain-auc:0.774624\teval-auc:0.755283\n",
      "[71]\ttrain-auc:0.774926\teval-auc:0.755633\n",
      "[72]\ttrain-auc:0.775305\teval-auc:0.755874\n",
      "[73]\ttrain-auc:0.776026\teval-auc:0.75637\n",
      "[74]\ttrain-auc:0.777191\teval-auc:0.757332\n",
      "[75]\ttrain-auc:0.777672\teval-auc:0.757705\n",
      "[76]\ttrain-auc:0.779129\teval-auc:0.759093\n",
      "[77]\ttrain-auc:0.779193\teval-auc:0.759022\n",
      "[78]\ttrain-auc:0.779855\teval-auc:0.759606\n",
      "[79]\ttrain-auc:0.780181\teval-auc:0.759731\n",
      "[80]\ttrain-auc:0.780652\teval-auc:0.760125\n",
      "[81]\ttrain-auc:0.780827\teval-auc:0.760071\n",
      "[82]\ttrain-auc:0.781109\teval-auc:0.760207\n",
      "[83]\ttrain-auc:0.781731\teval-auc:0.760831\n",
      "[84]\ttrain-auc:0.782015\teval-auc:0.760983\n",
      "[85]\ttrain-auc:0.782785\teval-auc:0.761885\n",
      "[86]\ttrain-auc:0.783743\teval-auc:0.762662\n",
      "[87]\ttrain-auc:0.783781\teval-auc:0.762615\n",
      "[88]\ttrain-auc:0.784999\teval-auc:0.763765\n",
      "[89]\ttrain-auc:0.785226\teval-auc:0.763848\n",
      "[90]\ttrain-auc:0.785676\teval-auc:0.764213\n",
      "[91]\ttrain-auc:0.786102\teval-auc:0.764538\n",
      "[92]\ttrain-auc:0.786303\teval-auc:0.764484\n",
      "[93]\ttrain-auc:0.786599\teval-auc:0.764652\n",
      "[94]\ttrain-auc:0.787075\teval-auc:0.765011\n",
      "[95]\ttrain-auc:0.787392\teval-auc:0.765138\n",
      "[96]\ttrain-auc:0.787701\teval-auc:0.76517\n",
      "[97]\ttrain-auc:0.788033\teval-auc:0.765305\n",
      "[98]\ttrain-auc:0.788568\teval-auc:0.765894\n",
      "[99]\ttrain-auc:0.788964\teval-auc:0.766159\n",
      "[100]\ttrain-auc:0.790265\teval-auc:0.767413\n",
      "[101]\ttrain-auc:0.790549\teval-auc:0.767542\n",
      "[102]\ttrain-auc:0.790806\teval-auc:0.767794\n",
      "[103]\ttrain-auc:0.791094\teval-auc:0.768156\n",
      "[104]\ttrain-auc:0.792279\teval-auc:0.7692\n",
      "[105]\ttrain-auc:0.792659\teval-auc:0.769555\n",
      "[106]\ttrain-auc:0.79293\teval-auc:0.769777\n",
      "[107]\ttrain-auc:0.793278\teval-auc:0.770066\n",
      "[108]\ttrain-auc:0.794088\teval-auc:0.77073\n",
      "[109]\ttrain-auc:0.794262\teval-auc:0.770752\n",
      "[110]\ttrain-auc:0.794468\teval-auc:0.77097\n",
      "[111]\ttrain-auc:0.795032\teval-auc:0.771423\n",
      "[112]\ttrain-auc:0.795397\teval-auc:0.771656\n",
      "[113]\ttrain-auc:0.79541\teval-auc:0.771451\n",
      "[114]\ttrain-auc:0.796143\teval-auc:0.771965\n",
      "[115]\ttrain-auc:0.796494\teval-auc:0.772131\n",
      "[116]\ttrain-auc:0.79682\teval-auc:0.772385\n",
      "[117]\ttrain-auc:0.797047\teval-auc:0.772609\n",
      "[118]\ttrain-auc:0.797214\teval-auc:0.772649\n",
      "[119]\ttrain-auc:0.797433\teval-auc:0.77271\n",
      "[120]\ttrain-auc:0.798206\teval-auc:0.773381\n",
      "[121]\ttrain-auc:0.798584\teval-auc:0.773601\n",
      "[122]\ttrain-auc:0.799515\teval-auc:0.774625\n",
      "[123]\ttrain-auc:0.799957\teval-auc:0.774776\n",
      "[124]\ttrain-auc:0.800153\teval-auc:0.774749\n",
      "[125]\ttrain-auc:0.800266\teval-auc:0.774771\n",
      "[126]\ttrain-auc:0.800565\teval-auc:0.774741\n",
      "[127]\ttrain-auc:0.800701\teval-auc:0.774854\n",
      "[128]\ttrain-auc:0.800954\teval-auc:0.774934\n",
      "[129]\ttrain-auc:0.801152\teval-auc:0.774921\n",
      "[130]\ttrain-auc:0.801285\teval-auc:0.775003\n",
      "[131]\ttrain-auc:0.801687\teval-auc:0.775154\n",
      "[132]\ttrain-auc:0.802135\teval-auc:0.775642\n",
      "[133]\ttrain-auc:0.802534\teval-auc:0.775882\n",
      "[134]\ttrain-auc:0.802615\teval-auc:0.775964\n",
      "[135]\ttrain-auc:0.802815\teval-auc:0.775963\n",
      "[136]\ttrain-auc:0.802968\teval-auc:0.775947\n",
      "[137]\ttrain-auc:0.803232\teval-auc:0.776048\n",
      "[138]\ttrain-auc:0.803619\teval-auc:0.776321\n",
      "[139]\ttrain-auc:0.803943\teval-auc:0.776481\n",
      "[140]\ttrain-auc:0.804328\teval-auc:0.7767\n",
      "[141]\ttrain-auc:0.804621\teval-auc:0.777022\n",
      "[142]\ttrain-auc:0.804809\teval-auc:0.777137\n",
      "[143]\ttrain-auc:0.805305\teval-auc:0.777596\n",
      "[144]\ttrain-auc:0.805443\teval-auc:0.777638\n",
      "[145]\ttrain-auc:0.805517\teval-auc:0.777646\n",
      "[146]\ttrain-auc:0.805873\teval-auc:0.777855\n",
      "[147]\ttrain-auc:0.806229\teval-auc:0.778061\n",
      "[148]\ttrain-auc:0.806554\teval-auc:0.778377\n",
      "[149]\ttrain-auc:0.8067\teval-auc:0.778275\n",
      "[150]\ttrain-auc:0.807113\teval-auc:0.778609\n",
      "[151]\ttrain-auc:0.80718\teval-auc:0.778583\n",
      "[152]\ttrain-auc:0.807716\teval-auc:0.779043\n",
      "[153]\ttrain-auc:0.808241\teval-auc:0.77937\n",
      "[154]\ttrain-auc:0.808468\teval-auc:0.779442\n",
      "[155]\ttrain-auc:0.808859\teval-auc:0.779796\n",
      "[156]\ttrain-auc:0.809093\teval-auc:0.780099\n",
      "[157]\ttrain-auc:0.809331\teval-auc:0.780113\n",
      "[158]\ttrain-auc:0.809632\teval-auc:0.780433\n",
      "[159]\ttrain-auc:0.809821\teval-auc:0.780581\n",
      "[160]\ttrain-auc:0.810212\teval-auc:0.780789\n",
      "[161]\ttrain-auc:0.810311\teval-auc:0.780861\n",
      "[162]\ttrain-auc:0.810641\teval-auc:0.781099\n",
      "[163]\ttrain-auc:0.810815\teval-auc:0.781176\n",
      "[164]\ttrain-auc:0.81118\teval-auc:0.781544\n",
      "[165]\ttrain-auc:0.811335\teval-auc:0.781488\n",
      "[166]\ttrain-auc:0.811474\teval-auc:0.781558\n",
      "[167]\ttrain-auc:0.811695\teval-auc:0.781593\n",
      "[168]\ttrain-auc:0.811774\teval-auc:0.78151\n",
      "[169]\ttrain-auc:0.812017\teval-auc:0.78155\n",
      "[170]\ttrain-auc:0.812082\teval-auc:0.78156\n",
      "[171]\ttrain-auc:0.812603\teval-auc:0.782151\n",
      "[172]\ttrain-auc:0.812742\teval-auc:0.782234\n",
      "[173]\ttrain-auc:0.812946\teval-auc:0.782172\n",
      "[174]\ttrain-auc:0.8131\teval-auc:0.782211\n",
      "[175]\ttrain-auc:0.813318\teval-auc:0.782346\n",
      "[176]\ttrain-auc:0.813408\teval-auc:0.78236\n",
      "[177]\ttrain-auc:0.813557\teval-auc:0.782342\n",
      "[178]\ttrain-auc:0.813624\teval-auc:0.782358\n",
      "[179]\ttrain-auc:0.813982\teval-auc:0.782574\n",
      "[180]\ttrain-auc:0.8142\teval-auc:0.782562\n",
      "[181]\ttrain-auc:0.814616\teval-auc:0.782863\n",
      "[182]\ttrain-auc:0.814843\teval-auc:0.782984\n",
      "[183]\ttrain-auc:0.814961\teval-auc:0.783015\n",
      "[184]\ttrain-auc:0.815163\teval-auc:0.78317\n",
      "[185]\ttrain-auc:0.815324\teval-auc:0.783124\n",
      "[186]\ttrain-auc:0.815717\teval-auc:0.783508\n",
      "[187]\ttrain-auc:0.815813\teval-auc:0.783535\n",
      "[188]\ttrain-auc:0.816064\teval-auc:0.783727\n",
      "[189]\ttrain-auc:0.816323\teval-auc:0.784004\n",
      "[190]\ttrain-auc:0.816494\teval-auc:0.784088\n"
     ]
    },
    {
     "name": "stdout",
     "output_type": "stream",
     "text": [
      "[191]\ttrain-auc:0.816689\teval-auc:0.784167\n",
      "[192]\ttrain-auc:0.816862\teval-auc:0.784325\n",
      "[193]\ttrain-auc:0.817074\teval-auc:0.784417\n",
      "[194]\ttrain-auc:0.817168\teval-auc:0.78444\n",
      "[195]\ttrain-auc:0.817326\teval-auc:0.784393\n",
      "[196]\ttrain-auc:0.817517\teval-auc:0.784562\n",
      "[197]\ttrain-auc:0.817589\teval-auc:0.78463\n",
      "[198]\ttrain-auc:0.817754\teval-auc:0.784799\n",
      "[199]\ttrain-auc:0.818083\teval-auc:0.785103\n",
      "[200]\ttrain-auc:0.818247\teval-auc:0.78512\n",
      "[201]\ttrain-auc:0.81849\teval-auc:0.78538\n",
      "[202]\ttrain-auc:0.81859\teval-auc:0.785364\n",
      "[203]\ttrain-auc:0.818928\teval-auc:0.785629\n",
      "[204]\ttrain-auc:0.81911\teval-auc:0.785805\n",
      "[205]\ttrain-auc:0.81935\teval-auc:0.78591\n",
      "[206]\ttrain-auc:0.819381\teval-auc:0.785942\n",
      "[207]\ttrain-auc:0.819459\teval-auc:0.785853\n",
      "[208]\ttrain-auc:0.819636\teval-auc:0.786033\n",
      "[209]\ttrain-auc:0.819749\teval-auc:0.786032\n",
      "[210]\ttrain-auc:0.819962\teval-auc:0.786118\n",
      "[211]\ttrain-auc:0.820168\teval-auc:0.786198\n",
      "[212]\ttrain-auc:0.820242\teval-auc:0.786181\n",
      "[213]\ttrain-auc:0.820391\teval-auc:0.786153\n",
      "[214]\ttrain-auc:0.820645\teval-auc:0.786281\n",
      "[215]\ttrain-auc:0.820904\teval-auc:0.786523\n",
      "[216]\ttrain-auc:0.821166\teval-auc:0.786655\n",
      "[217]\ttrain-auc:0.821416\teval-auc:0.786795\n",
      "[218]\ttrain-auc:0.821543\teval-auc:0.786758\n",
      "[219]\ttrain-auc:0.821905\teval-auc:0.786974\n",
      "[220]\ttrain-auc:0.821993\teval-auc:0.786954\n",
      "[221]\ttrain-auc:0.822217\teval-auc:0.787097\n",
      "[222]\ttrain-auc:0.822331\teval-auc:0.786947\n",
      "[223]\ttrain-auc:0.822399\teval-auc:0.786937\n",
      "[224]\ttrain-auc:0.822605\teval-auc:0.786972\n",
      "[225]\ttrain-auc:0.822794\teval-auc:0.787023\n",
      "[226]\ttrain-auc:0.822934\teval-auc:0.787023\n",
      "[227]\ttrain-auc:0.823117\teval-auc:0.787095\n",
      "[228]\ttrain-auc:0.823313\teval-auc:0.787164\n",
      "[229]\ttrain-auc:0.823505\teval-auc:0.787317\n",
      "[230]\ttrain-auc:0.823648\teval-auc:0.787379\n",
      "[231]\ttrain-auc:0.823872\teval-auc:0.787575\n",
      "[232]\ttrain-auc:0.824086\teval-auc:0.78782\n",
      "[233]\ttrain-auc:0.824291\teval-auc:0.78791\n",
      "[234]\ttrain-auc:0.824422\teval-auc:0.787896\n",
      "[235]\ttrain-auc:0.824579\teval-auc:0.787927\n",
      "[236]\ttrain-auc:0.824708\teval-auc:0.787926\n",
      "[237]\ttrain-auc:0.824891\teval-auc:0.788065\n",
      "[238]\ttrain-auc:0.825104\teval-auc:0.788192\n",
      "[239]\ttrain-auc:0.825219\teval-auc:0.788156\n",
      "[240]\ttrain-auc:0.825445\teval-auc:0.788299\n",
      "[241]\ttrain-auc:0.825693\teval-auc:0.788517\n",
      "[242]\ttrain-auc:0.825799\teval-auc:0.788593\n",
      "[243]\ttrain-auc:0.825998\teval-auc:0.78873\n",
      "[244]\ttrain-auc:0.826101\teval-auc:0.788777\n",
      "[245]\ttrain-auc:0.826342\teval-auc:0.7889\n",
      "[246]\ttrain-auc:0.826473\teval-auc:0.788926\n",
      "[247]\ttrain-auc:0.826549\teval-auc:0.788911\n",
      "[248]\ttrain-auc:0.826702\teval-auc:0.78889\n",
      "[249]\ttrain-auc:0.826887\teval-auc:0.78906\n",
      "[250]\ttrain-auc:0.826974\teval-auc:0.789066\n",
      "[251]\ttrain-auc:0.827107\teval-auc:0.789062\n",
      "[252]\ttrain-auc:0.827315\teval-auc:0.789212\n",
      "[253]\ttrain-auc:0.827554\teval-auc:0.7893\n",
      "[254]\ttrain-auc:0.827756\teval-auc:0.789491\n",
      "[255]\ttrain-auc:0.82788\teval-auc:0.789463\n",
      "[256]\ttrain-auc:0.827996\teval-auc:0.789452\n",
      "[257]\ttrain-auc:0.828256\teval-auc:0.789537\n",
      "[258]\ttrain-auc:0.828359\teval-auc:0.789498\n",
      "[259]\ttrain-auc:0.828605\teval-auc:0.789591\n",
      "[260]\ttrain-auc:0.828685\teval-auc:0.789584\n",
      "[261]\ttrain-auc:0.828818\teval-auc:0.789581\n",
      "[262]\ttrain-auc:0.82887\teval-auc:0.789544\n",
      "[263]\ttrain-auc:0.829007\teval-auc:0.789555\n",
      "[264]\ttrain-auc:0.829161\teval-auc:0.789554\n",
      "[265]\ttrain-auc:0.829278\teval-auc:0.789475\n",
      "[266]\ttrain-auc:0.829407\teval-auc:0.789432\n",
      "[267]\ttrain-auc:0.829604\teval-auc:0.789512\n",
      "[268]\ttrain-auc:0.8298\teval-auc:0.789613\n",
      "[269]\ttrain-auc:0.829921\teval-auc:0.78958\n",
      "[270]\ttrain-auc:0.830051\teval-auc:0.789624\n",
      "[271]\ttrain-auc:0.830252\teval-auc:0.789683\n",
      "[272]\ttrain-auc:0.830387\teval-auc:0.789703\n",
      "[273]\ttrain-auc:0.830537\teval-auc:0.789948\n",
      "[274]\ttrain-auc:0.830657\teval-auc:0.790003\n",
      "[275]\ttrain-auc:0.830722\teval-auc:0.789951\n",
      "[276]\ttrain-auc:0.830929\teval-auc:0.79006\n",
      "[277]\ttrain-auc:0.831034\teval-auc:0.790181\n",
      "[278]\ttrain-auc:0.831147\teval-auc:0.790236\n",
      "[279]\ttrain-auc:0.831332\teval-auc:0.790272\n",
      "[280]\ttrain-auc:0.831566\teval-auc:0.790459\n",
      "[281]\ttrain-auc:0.831701\teval-auc:0.790512\n",
      "[282]\ttrain-auc:0.831836\teval-auc:0.790638\n",
      "[283]\ttrain-auc:0.831958\teval-auc:0.790818\n",
      "[284]\ttrain-auc:0.832073\teval-auc:0.790859\n",
      "[285]\ttrain-auc:0.832231\teval-auc:0.790859\n",
      "[286]\ttrain-auc:0.832322\teval-auc:0.790879\n",
      "[287]\ttrain-auc:0.832388\teval-auc:0.790818\n",
      "[288]\ttrain-auc:0.832472\teval-auc:0.790718\n",
      "[289]\ttrain-auc:0.832564\teval-auc:0.790768\n",
      "[290]\ttrain-auc:0.832772\teval-auc:0.790919\n",
      "[291]\ttrain-auc:0.833016\teval-auc:0.791153\n",
      "[292]\ttrain-auc:0.833201\teval-auc:0.791237\n",
      "[293]\ttrain-auc:0.833335\teval-auc:0.791254\n",
      "[294]\ttrain-auc:0.83349\teval-auc:0.791218\n",
      "[295]\ttrain-auc:0.833691\teval-auc:0.79127\n",
      "[296]\ttrain-auc:0.833782\teval-auc:0.791312\n",
      "[297]\ttrain-auc:0.833947\teval-auc:0.791373\n",
      "[298]\ttrain-auc:0.834112\teval-auc:0.791436\n",
      "[299]\ttrain-auc:0.834269\teval-auc:0.791509\n",
      "[300]\ttrain-auc:0.834453\teval-auc:0.791612\n",
      "[301]\ttrain-auc:0.834509\teval-auc:0.79155\n",
      "[302]\ttrain-auc:0.834632\teval-auc:0.791594\n",
      "[303]\ttrain-auc:0.834796\teval-auc:0.791641\n",
      "[304]\ttrain-auc:0.834958\teval-auc:0.791688\n",
      "[305]\ttrain-auc:0.835134\teval-auc:0.791701\n",
      "[306]\ttrain-auc:0.835309\teval-auc:0.791647\n",
      "[307]\ttrain-auc:0.83543\teval-auc:0.79166\n",
      "[308]\ttrain-auc:0.835509\teval-auc:0.79169\n",
      "[309]\ttrain-auc:0.835581\teval-auc:0.791802\n",
      "[310]\ttrain-auc:0.835696\teval-auc:0.791712\n",
      "[311]\ttrain-auc:0.835754\teval-auc:0.791591\n",
      "[312]\ttrain-auc:0.835945\teval-auc:0.791626\n",
      "[313]\ttrain-auc:0.836074\teval-auc:0.791641\n",
      "[314]\ttrain-auc:0.836147\teval-auc:0.791645\n",
      "[315]\ttrain-auc:0.8363\teval-auc:0.7917\n",
      "[316]\ttrain-auc:0.836454\teval-auc:0.791849\n",
      "[317]\ttrain-auc:0.836598\teval-auc:0.791843\n",
      "[318]\ttrain-auc:0.836726\teval-auc:0.791789\n",
      "[319]\ttrain-auc:0.83685\teval-auc:0.791841\n",
      "[320]\ttrain-auc:0.836931\teval-auc:0.791817\n",
      "[321]\ttrain-auc:0.837051\teval-auc:0.791767\n",
      "[322]\ttrain-auc:0.837166\teval-auc:0.791743\n",
      "[323]\ttrain-auc:0.837345\teval-auc:0.7918\n",
      "[324]\ttrain-auc:0.837411\teval-auc:0.791839\n",
      "[325]\ttrain-auc:0.837559\teval-auc:0.79187\n",
      "[326]\ttrain-auc:0.837693\teval-auc:0.791981\n",
      "[327]\ttrain-auc:0.837805\teval-auc:0.792154\n",
      "[328]\ttrain-auc:0.837981\teval-auc:0.79224\n",
      "[329]\ttrain-auc:0.838082\teval-auc:0.792239\n",
      "[330]\ttrain-auc:0.838232\teval-auc:0.792328\n",
      "[331]\ttrain-auc:0.838339\teval-auc:0.79242\n",
      "[332]\ttrain-auc:0.838413\teval-auc:0.792448\n",
      "[333]\ttrain-auc:0.83857\teval-auc:0.792534\n",
      "[334]\ttrain-auc:0.838716\teval-auc:0.792663\n",
      "[335]\ttrain-auc:0.838848\teval-auc:0.792708\n",
      "[336]\ttrain-auc:0.838984\teval-auc:0.792753\n",
      "[337]\ttrain-auc:0.839148\teval-auc:0.79279\n",
      "[338]\ttrain-auc:0.839326\teval-auc:0.792742\n",
      "[339]\ttrain-auc:0.839454\teval-auc:0.792812\n",
      "[340]\ttrain-auc:0.83954\teval-auc:0.792801\n",
      "[341]\ttrain-auc:0.839717\teval-auc:0.792797\n",
      "[342]\ttrain-auc:0.839862\teval-auc:0.792845\n",
      "[343]\ttrain-auc:0.839947\teval-auc:0.792849\n",
      "[344]\ttrain-auc:0.839962\teval-auc:0.792781\n",
      "[345]\ttrain-auc:0.840099\teval-auc:0.792728\n",
      "[346]\ttrain-auc:0.840255\teval-auc:0.792742\n",
      "[347]\ttrain-auc:0.840398\teval-auc:0.79263\n",
      "[348]\ttrain-auc:0.840538\teval-auc:0.792694\n",
      "[349]\ttrain-auc:0.840712\teval-auc:0.792782\n",
      "[350]\ttrain-auc:0.84084\teval-auc:0.792855\n",
      "[351]\ttrain-auc:0.840917\teval-auc:0.792857\n",
      "[352]\ttrain-auc:0.841047\teval-auc:0.792889\n",
      "[353]\ttrain-auc:0.841128\teval-auc:0.792912\n",
      "[354]\ttrain-auc:0.841232\teval-auc:0.792899\n",
      "[355]\ttrain-auc:0.841308\teval-auc:0.792917\n",
      "[356]\ttrain-auc:0.841436\teval-auc:0.793013\n",
      "[357]\ttrain-auc:0.84152\teval-auc:0.793016\n",
      "[358]\ttrain-auc:0.84165\teval-auc:0.793057\n",
      "[359]\ttrain-auc:0.841791\teval-auc:0.793045\n",
      "[360]\ttrain-auc:0.842027\teval-auc:0.793095\n",
      "[361]\ttrain-auc:0.842085\teval-auc:0.793056\n",
      "[362]\ttrain-auc:0.84225\teval-auc:0.793127\n",
      "[363]\ttrain-auc:0.842335\teval-auc:0.79313\n",
      "[364]\ttrain-auc:0.842455\teval-auc:0.793169\n",
      "[365]\ttrain-auc:0.842611\teval-auc:0.793268\n",
      "[366]\ttrain-auc:0.842709\teval-auc:0.793222\n",
      "[367]\ttrain-auc:0.842831\teval-auc:0.793233\n",
      "[368]\ttrain-auc:0.842949\teval-auc:0.79321\n",
      "[369]\ttrain-auc:0.843055\teval-auc:0.79325\n",
      "[370]\ttrain-auc:0.843187\teval-auc:0.793236\n",
      "[371]\ttrain-auc:0.843309\teval-auc:0.793285\n",
      "[372]\ttrain-auc:0.843415\teval-auc:0.793283\n",
      "[373]\ttrain-auc:0.843556\teval-auc:0.793337\n",
      "[374]\ttrain-auc:0.843674\teval-auc:0.793292\n",
      "[375]\ttrain-auc:0.843791\teval-auc:0.793339\n",
      "[376]\ttrain-auc:0.843892\teval-auc:0.793387\n",
      "[377]\ttrain-auc:0.844003\teval-auc:0.793438\n",
      "[378]\ttrain-auc:0.844076\teval-auc:0.793426\n",
      "[379]\ttrain-auc:0.844193\teval-auc:0.793469\n",
      "[380]\ttrain-auc:0.84432\teval-auc:0.79347\n",
      "[381]\ttrain-auc:0.844449\teval-auc:0.793548\n",
      "[382]\ttrain-auc:0.844524\teval-auc:0.793523\n"
     ]
    },
    {
     "name": "stdout",
     "output_type": "stream",
     "text": [
      "[383]\ttrain-auc:0.844589\teval-auc:0.793551\n",
      "[384]\ttrain-auc:0.844682\teval-auc:0.793573\n",
      "[385]\ttrain-auc:0.844814\teval-auc:0.793687\n",
      "[386]\ttrain-auc:0.84492\teval-auc:0.793629\n",
      "[387]\ttrain-auc:0.845031\teval-auc:0.793579\n",
      "[388]\ttrain-auc:0.845099\teval-auc:0.793619\n",
      "[389]\ttrain-auc:0.845218\teval-auc:0.793617\n",
      "[390]\ttrain-auc:0.845341\teval-auc:0.793634\n",
      "[391]\ttrain-auc:0.845488\teval-auc:0.793742\n",
      "[392]\ttrain-auc:0.845553\teval-auc:0.793762\n",
      "[393]\ttrain-auc:0.845675\teval-auc:0.793762\n",
      "[394]\ttrain-auc:0.845806\teval-auc:0.793823\n",
      "[395]\ttrain-auc:0.845958\teval-auc:0.793823\n",
      "[396]\ttrain-auc:0.84604\teval-auc:0.793822\n",
      "[397]\ttrain-auc:0.846155\teval-auc:0.79378\n",
      "[398]\ttrain-auc:0.846313\teval-auc:0.793847\n",
      "[399]\ttrain-auc:0.846404\teval-auc:0.793852\n",
      "[400]\ttrain-auc:0.846452\teval-auc:0.793788\n",
      "[401]\ttrain-auc:0.846545\teval-auc:0.793776\n",
      "[402]\ttrain-auc:0.846718\teval-auc:0.793846\n",
      "[403]\ttrain-auc:0.846805\teval-auc:0.793894\n",
      "[404]\ttrain-auc:0.846893\teval-auc:0.7939\n",
      "[405]\ttrain-auc:0.847032\teval-auc:0.793918\n",
      "[406]\ttrain-auc:0.847136\teval-auc:0.794026\n",
      "[407]\ttrain-auc:0.847246\teval-auc:0.794061\n",
      "[408]\ttrain-auc:0.84737\teval-auc:0.794046\n",
      "[409]\ttrain-auc:0.847488\teval-auc:0.794126\n",
      "[410]\ttrain-auc:0.84764\teval-auc:0.794218\n",
      "[411]\ttrain-auc:0.847678\teval-auc:0.79419\n",
      "[412]\ttrain-auc:0.847775\teval-auc:0.794255\n",
      "[413]\ttrain-auc:0.847869\teval-auc:0.794242\n",
      "[414]\ttrain-auc:0.847972\teval-auc:0.794171\n",
      "[415]\ttrain-auc:0.848067\teval-auc:0.794125\n",
      "[416]\ttrain-auc:0.848182\teval-auc:0.794082\n",
      "[417]\ttrain-auc:0.84835\teval-auc:0.794144\n",
      "[418]\ttrain-auc:0.848486\teval-auc:0.794251\n",
      "[419]\ttrain-auc:0.848526\teval-auc:0.794249\n",
      "[420]\ttrain-auc:0.848636\teval-auc:0.794255\n",
      "[421]\ttrain-auc:0.848718\teval-auc:0.79432\n",
      "[422]\ttrain-auc:0.848759\teval-auc:0.794297\n",
      "[423]\ttrain-auc:0.848895\teval-auc:0.794412\n",
      "[424]\ttrain-auc:0.848997\teval-auc:0.794449\n",
      "[425]\ttrain-auc:0.849043\teval-auc:0.794424\n",
      "[426]\ttrain-auc:0.849127\teval-auc:0.794417\n",
      "[427]\ttrain-auc:0.84923\teval-auc:0.794351\n",
      "[428]\ttrain-auc:0.849341\teval-auc:0.794502\n",
      "[429]\ttrain-auc:0.849402\teval-auc:0.79447\n",
      "[430]\ttrain-auc:0.849475\teval-auc:0.794465\n",
      "[431]\ttrain-auc:0.849621\teval-auc:0.794496\n",
      "[432]\ttrain-auc:0.849681\teval-auc:0.794534\n",
      "[433]\ttrain-auc:0.849798\teval-auc:0.794591\n",
      "[434]\ttrain-auc:0.849859\teval-auc:0.794621\n",
      "[435]\ttrain-auc:0.849912\teval-auc:0.794578\n",
      "[436]\ttrain-auc:0.850015\teval-auc:0.794542\n",
      "[437]\ttrain-auc:0.850167\teval-auc:0.794551\n",
      "[438]\ttrain-auc:0.850308\teval-auc:0.794554\n",
      "[439]\ttrain-auc:0.850434\teval-auc:0.794699\n",
      "[440]\ttrain-auc:0.850516\teval-auc:0.794666\n",
      "[441]\ttrain-auc:0.850618\teval-auc:0.79464\n",
      "[442]\ttrain-auc:0.850738\teval-auc:0.794677\n",
      "[443]\ttrain-auc:0.850806\teval-auc:0.794732\n",
      "[444]\ttrain-auc:0.850874\teval-auc:0.794673\n",
      "[445]\ttrain-auc:0.850956\teval-auc:0.794659\n",
      "[446]\ttrain-auc:0.85107\teval-auc:0.794671\n",
      "[447]\ttrain-auc:0.851125\teval-auc:0.794659\n",
      "[448]\ttrain-auc:0.851167\teval-auc:0.794635\n",
      "[449]\ttrain-auc:0.851243\teval-auc:0.794691\n",
      "[450]\ttrain-auc:0.851379\teval-auc:0.794673\n",
      "[451]\ttrain-auc:0.85139\teval-auc:0.79465\n",
      "[452]\ttrain-auc:0.851475\teval-auc:0.79468\n",
      "[453]\ttrain-auc:0.851572\teval-auc:0.794679\n",
      "Stopping. Best iteration:\n",
      "[443]\ttrain-auc:0.850806\teval-auc:0.794732\n",
      "\n",
      "Best error: 0.79 with 444 rounds\n"
     ]
    }
   ],
   "source": [
    "# Train the model on the training set to get an initial impression on the performance\n",
    "model = xgb.train(param, Dtrain, num_round, evallist, early_stopping_rounds=10)\n",
    "print(\"Best error: {:.2f} with {} rounds\".format(\n",
    "                 model.best_score,\n",
    "                 model.best_iteration+1))"
   ]
  },
  {
   "cell_type": "code",
   "execution_count": 33,
   "metadata": {},
   "outputs": [],
   "source": [
    "Dtest = xgb.DMatrix(x_test, label=y_test)\n",
    "probas = model.predict(Dtest)\n",
    "y_test = Dtest.get_label()"
   ]
  },
  {
   "cell_type": "code",
   "execution_count": 34,
   "metadata": {
    "scrolled": false
   },
   "outputs": [
    {
     "name": "stderr",
     "output_type": "stream",
     "text": [
      "/home/dbeiski/PycharmProjects/fl5/linear_models/venv3.5/lib/python3.5/site-packages/sklearn/metrics/classification.py:1437: UndefinedMetricWarning: Precision is ill-defined and being set to 0.0 due to no predicted samples.\n",
      "  'precision', 'predicted', average, warn_for)\n",
      "/home/dbeiski/PycharmProjects/fl5/linear_models/venv3.5/lib/python3.5/site-packages/sklearn/metrics/classification.py:1437: UndefinedMetricWarning: F-score is ill-defined and being set to 0.0 due to no predicted samples.\n",
      "  'precision', 'predicted', average, warn_for)\n"
     ]
    },
    {
     "data": {
      "image/png": "[encoded data removed]",
      "text/plain": [
       "<Figure size 1440x720 with 4 Axes>"
      ]
     },
     "metadata": {
      "needs_background": "light"
     },
     "output_type": "display_data"
    }
   ],
   "source": [
    "accs, recalls, precs, f1s = [], [], [], []\n",
    "for thr in thres:\n",
    "    y_pred = (probas > thr).astype(int)\n",
    "    accs.append(skm.accuracy_score(y_test, y_pred))\n",
    "    recalls.append(skm.recall_score(y_test, y_pred))\n",
    "    precs.append(skm.precision_score(y_test, y_pred))\n",
    "    f1s.append(skm.f1_score(y_test, y_pred))\n",
    "    \n",
    "fig = plt.figure(figsize=(20, 10))\n",
    "fig.subplots_adjust(hspace=0.4, wspace=0.4)\n",
    "for i, (metric, name) in enumerate(zip([accs, recalls, precs, f1s], ['acc', 'rcl', 'prc', 'f1']), start=1):\n",
    "    fig.add_subplot(2, 2, i)\n",
    "    plt.plot(thres, metric)\n",
    "    plt.title(name)\n"
   ]
  },
  {
   "cell_type": "code",
   "execution_count": 35,
   "metadata": {
    "scrolled": true
   },
   "outputs": [
    {
     "data": {
      "image/png": "[encoded data removed]",
      "text/plain": [
       "<Figure size 432x288 with 1 Axes>"
      ]
     },
     "metadata": {
      "needs_background": "light"
     },
     "output_type": "display_data"
    }
   ],
   "source": [
    "tpr, fpr, _ = roc_curve(y_test, probas)\n",
    "plt.plot(tpr, fpr);"
   ]
  },
  {
   "cell_type": "code",
   "execution_count": 36,
   "metadata": {},
   "outputs": [
    {
     "name": "stdout",
     "output_type": "stream",
     "text": [
      "Acc for max f1 threshold:  0.7969794025070407\n",
      "Max acc :  0.8296427190899552\n",
      "Recall :  0.5867301015815868\n"
     ]
    }
   ],
   "source": [
    "best_thres = thres[np.argmax(f1s)]\n",
    "y_pred = (probas > best_thres).astype(int)\n",
    "print('Acc for max f1 threshold: ', skm.accuracy_score(y_test, y_pred))\n",
    "print('Max acc : ', max(accs))\n",
    "print('Recall : ', skm.recall_score(y_test, y_pred))"
   ]
  },
  {
   "cell_type": "code",
   "execution_count": 37,
   "metadata": {},
   "outputs": [
    {
     "data": {
      "image/png": "[encoded data removed]",
      "text/plain": [
       "<Figure size 432x288 with 1 Axes>"
      ]
     },
     "metadata": {
      "needs_background": "light"
     },
     "output_type": "display_data"
    }
   ],
   "source": [
    "xgb.plot_importance(model, max_num_features=20, importance_type='gain');"
   ]
  },
  {
   "cell_type": "code",
   "execution_count": null,
   "metadata": {},
   "outputs": [],
   "source": []
  }
 ],
 "metadata": {
  "hide_input": false,
  "kernelspec": {
   "display_name": "Python 3",
   "language": "python",
   "name": "python3"
  },
  "language_info": {
   "codemirror_mode": {
    "name": "ipython",
    "version": 3
   },
   "file_extension": ".py",
   "mimetype": "text/x-python",
   "name": "python",
   "nbconvert_exporter": "python",
   "pygments_lexer": "ipython3",
   "version": "3.5.2"
  },
  "varInspector": {
   "cols": {
    "lenName": 16,
    "lenType": 16,
    "lenVar": 40
   },
   "kernels_config": {
    "python": {
     "delete_cmd_postfix": "",
     "delete_cmd_prefix": "del ",
     "library": "var_list.py",
     "varRefreshCmd": "print(var_dic_list())"
    },
    "r": {
     "delete_cmd_postfix": ") ",
     "delete_cmd_prefix": "rm(",
     "library": "var_list.r",
     "varRefreshCmd": "cat(var_dic_list()) "
    }
   },
   "types_to_exclude": [
    "module",
    "function",
    "builtin_function_or_method",
    "instance",
    "_Feature"
   ],
   "window_display": true
  }
 },
 "nbformat": 4,
 "nbformat_minor": 2
}
