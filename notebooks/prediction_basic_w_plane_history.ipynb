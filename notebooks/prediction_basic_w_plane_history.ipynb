{
 "cells": [
  {
   "cell_type": "code",
   "execution_count": 1,
   "metadata": {},
   "outputs": [],
   "source": [
    "import numpy as np\n",
    "import pandas as pd\n",
    "from sklearn.model_selection import train_test_split\n",
    "from random import randint\n",
    "import sklearn.metrics as skm\n",
    "from xgboost import XGBClassifier\n",
    "import xgboost as xgb\n",
    "from sklearn.metrics import roc_curve\n",
    "from matplotlib import pyplot as plt"
   ]
  },
  {
   "cell_type": "code",
   "execution_count": 2,
   "metadata": {},
   "outputs": [],
   "source": [
    "def replace_rare_entries(df, columns, threshold_frac):\n",
    "    tot_instances = df.shape[0]\n",
    "    threshold = tot_instances * threshold_frac\n",
    "    df = df.apply(lambda x: x.mask(x.map(x.value_counts()) < threshold, 'RARE') if x.name in columns else x)\n",
    "    return df"
   ]
  },
  {
   "cell_type": "code",
   "execution_count": 53,
   "metadata": {},
   "outputs": [],
   "source": [
    "categorical = ['OP_UNIQUE_CARRIER', 'DEST', 'DEP_TIME_BLK', 'DAY_OF_MONTH', 'DAY_OF_WEEK', 'MONTH']\n",
    "continuous = ['ARR_DELAY_1', 'DEP_DELAY_2', 'ARR_DELAY_2', 'DEP_DELAY_3']#, ARR_DELAY_0', 'DEP_DELAY_1']\n",
    "targets = ['DEP_DELAY_NEW', 'DEP_DEL15']"
   ]
  },
  {
   "cell_type": "code",
   "execution_count": 54,
   "metadata": {},
   "outputs": [],
   "source": [
    "df = pd.read_csv('/home/dbeiski/Project/FlightDelay/Data/new_york/year_lga_dep_w_prev_flights.csv')"
   ]
  },
  {
   "cell_type": "code",
   "execution_count": 73,
   "metadata": {},
   "outputs": [
    {
     "data": {
      "text/plain": [
       "172073"
      ]
     },
     "execution_count": 73,
     "metadata": {},
     "output_type": "execute_result"
    }
   ],
   "source": [
    "df.shape[0]"
   ]
  },
  {
   "cell_type": "code",
   "execution_count": 55,
   "metadata": {},
   "outputs": [],
   "source": [
    "data = df.loc[:, continuous + categorical]"
   ]
  },
  {
   "cell_type": "code",
   "execution_count": 56,
   "metadata": {},
   "outputs": [],
   "source": [
    "# data[continuous] = (data[continuous] - data[continuous].mean()) / data[continuous].std()\n",
    "data[continuous] = data[continuous].fillna(0)"
   ]
  },
  {
   "cell_type": "code",
   "execution_count": 57,
   "metadata": {},
   "outputs": [
    {
     "data": {
      "text/html": [
       "<div>\n",
       "<style scoped>\n",
       "    .dataframe tbody tr th:only-of-type {\n",
       "        vertical-align: middle;\n",
       "    }\n",
       "\n",
       "    .dataframe tbody tr th {\n",
       "        vertical-align: top;\n",
       "    }\n",
       "\n",
       "    .dataframe thead th {\n",
       "        text-align: right;\n",
       "    }\n",
       "</style>\n",
       "<table border=\"1\" class=\"dataframe\">\n",
       "  <thead>\n",
       "    <tr style=\"text-align: right;\">\n",
       "      <th></th>\n",
       "      <th>ARR_DELAY_1</th>\n",
       "      <th>DEP_DELAY_2</th>\n",
       "      <th>ARR_DELAY_2</th>\n",
       "      <th>DEP_DELAY_3</th>\n",
       "      <th>OP_UNIQUE_CARRIER</th>\n",
       "      <th>DEST</th>\n",
       "      <th>DEP_TIME_BLK</th>\n",
       "      <th>DAY_OF_MONTH</th>\n",
       "      <th>DAY_OF_WEEK</th>\n",
       "      <th>MONTH</th>\n",
       "    </tr>\n",
       "  </thead>\n",
       "  <tbody>\n",
       "    <tr>\n",
       "      <th>0</th>\n",
       "      <td>2.0</td>\n",
       "      <td>0.0</td>\n",
       "      <td>22.0</td>\n",
       "      <td>-1.0</td>\n",
       "      <td>UA</td>\n",
       "      <td>ORD</td>\n",
       "      <td>0001-0559</td>\n",
       "      <td>1</td>\n",
       "      <td>5</td>\n",
       "      <td>6</td>\n",
       "    </tr>\n",
       "    <tr>\n",
       "      <th>1</th>\n",
       "      <td>-2.0</td>\n",
       "      <td>-9.0</td>\n",
       "      <td>8.0</td>\n",
       "      <td>16.0</td>\n",
       "      <td>AA</td>\n",
       "      <td>MIA</td>\n",
       "      <td>0001-0559</td>\n",
       "      <td>1</td>\n",
       "      <td>5</td>\n",
       "      <td>6</td>\n",
       "    </tr>\n",
       "    <tr>\n",
       "      <th>2</th>\n",
       "      <td>4.0</td>\n",
       "      <td>10.0</td>\n",
       "      <td>2.0</td>\n",
       "      <td>-4.0</td>\n",
       "      <td>AA</td>\n",
       "      <td>DFW</td>\n",
       "      <td>0001-0559</td>\n",
       "      <td>1</td>\n",
       "      <td>5</td>\n",
       "      <td>6</td>\n",
       "    </tr>\n",
       "    <tr>\n",
       "      <th>3</th>\n",
       "      <td>0.0</td>\n",
       "      <td>0.0</td>\n",
       "      <td>0.0</td>\n",
       "      <td>0.0</td>\n",
       "      <td>WN</td>\n",
       "      <td>DAL</td>\n",
       "      <td>0600-0659</td>\n",
       "      <td>1</td>\n",
       "      <td>5</td>\n",
       "      <td>6</td>\n",
       "    </tr>\n",
       "    <tr>\n",
       "      <th>4</th>\n",
       "      <td>-21.0</td>\n",
       "      <td>-6.0</td>\n",
       "      <td>-10.0</td>\n",
       "      <td>-5.0</td>\n",
       "      <td>WN</td>\n",
       "      <td>HOU</td>\n",
       "      <td>0600-0659</td>\n",
       "      <td>1</td>\n",
       "      <td>5</td>\n",
       "      <td>6</td>\n",
       "    </tr>\n",
       "  </tbody>\n",
       "</table>\n",
       "</div>"
      ],
      "text/plain": [
       "   ARR_DELAY_1  DEP_DELAY_2  ARR_DELAY_2  DEP_DELAY_3 OP_UNIQUE_CARRIER DEST  \\\n",
       "0          2.0          0.0         22.0         -1.0                UA  ORD   \n",
       "1         -2.0         -9.0          8.0         16.0                AA  MIA   \n",
       "2          4.0         10.0          2.0         -4.0                AA  DFW   \n",
       "3          0.0          0.0          0.0          0.0                WN  DAL   \n",
       "4        -21.0         -6.0        -10.0         -5.0                WN  HOU   \n",
       "\n",
       "  DEP_TIME_BLK  DAY_OF_MONTH  DAY_OF_WEEK  MONTH  \n",
       "0    0001-0559             1            5      6  \n",
       "1    0001-0559             1            5      6  \n",
       "2    0001-0559             1            5      6  \n",
       "3    0600-0659             1            5      6  \n",
       "4    0600-0659             1            5      6  "
      ]
     },
     "execution_count": 57,
     "metadata": {},
     "output_type": "execute_result"
    }
   ],
   "source": [
    "data.head()"
   ]
  },
  {
   "cell_type": "code",
   "execution_count": 58,
   "metadata": {},
   "outputs": [],
   "source": [
    "\n",
    "data = replace_rare_entries(data, ['DEST'], 0.005)\n",
    "data = replace_rare_entries(data, ['UNIQUE_CARRIER'], 0.005)\n",
    "data = pd.get_dummies(data, columns=categorical)\n",
    "label = df['DEP_DEL15']"
   ]
  },
  {
   "cell_type": "code",
   "execution_count": 59,
   "metadata": {
    "scrolled": true
   },
   "outputs": [
    {
     "data": {
      "text/plain": [
       "Index(['ARR_DELAY_1', 'DEP_DELAY_2', 'ARR_DELAY_2', 'DEP_DELAY_3',\n",
       "       'OP_UNIQUE_CARRIER_9E', 'OP_UNIQUE_CARRIER_AA', 'OP_UNIQUE_CARRIER_B6',\n",
       "       'OP_UNIQUE_CARRIER_DL', 'OP_UNIQUE_CARRIER_EV', 'OP_UNIQUE_CARRIER_F9',\n",
       "       ...\n",
       "       'MONTH_3', 'MONTH_4', 'MONTH_5', 'MONTH_6', 'MONTH_7', 'MONTH_8',\n",
       "       'MONTH_9', 'MONTH_10', 'MONTH_11', 'MONTH_12'],\n",
       "      dtype='object', length=139)"
      ]
     },
     "execution_count": 59,
     "metadata": {},
     "output_type": "execute_result"
    }
   ],
   "source": [
    "data.columns"
   ]
  },
  {
   "cell_type": "code",
   "execution_count": 60,
   "metadata": {
    "scrolled": true
   },
   "outputs": [],
   "source": [
    "data = data[~label.isna()]\n",
    "label = label[~label.isna()]"
   ]
  },
  {
   "cell_type": "code",
   "execution_count": 61,
   "metadata": {},
   "outputs": [
    {
     "name": "stdout",
     "output_type": "stream",
     "text": [
      "Rows: 166735\n",
      "Features: 139\n",
      "Label-1 Fraction: 0.21788466728641256\n"
     ]
    }
   ],
   "source": [
    "print('Rows: {}\\nFeatures: {}\\nLabel-1 Fraction: {}'\n",
    "      .format(data.shape[0], data.shape[1], label.sum() / label.shape[0]))"
   ]
  },
  {
   "cell_type": "code",
   "execution_count": 62,
   "metadata": {},
   "outputs": [],
   "source": [
    "thres = np.linspace(0, 1, 500)"
   ]
  },
  {
   "cell_type": "code",
   "execution_count": 63,
   "metadata": {},
   "outputs": [],
   "source": [
    "x, x_test, y, y_test = train_test_split(data, label, test_size=0.2, \n",
    "                                                        random_state=randint(1, 500),\n",
    "                                                        stratify=label)"
   ]
  },
  {
   "cell_type": "code",
   "execution_count": 64,
   "metadata": {},
   "outputs": [
    {
     "name": "stderr",
     "output_type": "stream",
     "text": [
      "/home/dbeiski/PycharmProjects/fl5/linear_models/venv3.5/lib/python3.5/site-packages/xgboost/core.py:587: FutureWarning: Series.base is deprecated and will be removed in a future version\n",
      "  if getattr(data, 'base', None) is not None and \\\n"
     ]
    }
   ],
   "source": [
    "x_train, x_val, y_train, y_val = train_test_split(x, y, test_size=0.2, \n",
    "                                                        random_state=randint(1, 500),\n",
    "                                                        stratify=y)\n",
    "Dtrain = xgb.DMatrix(x_train, label=y_train)\n",
    "Dval = xgb.DMatrix(x_val, label=y_val)"
   ]
  },
  {
   "cell_type": "code",
   "execution_count": 65,
   "metadata": {},
   "outputs": [
    {
     "data": {
      "text/plain": [
       "106710"
      ]
     },
     "execution_count": 65,
     "metadata": {},
     "output_type": "execute_result"
    }
   ],
   "source": [
    "y_train.shape[0]"
   ]
  },
  {
   "cell_type": "code",
   "execution_count": 66,
   "metadata": {},
   "outputs": [],
   "source": [
    "param = {                              # General guidelines for initial paramaters:\n",
    "    'min_child_weight': 1,             # 1 (choose small for high class imbalance)\n",
    "    'gamma': 0.3,                        # 0.1-0.2\n",
    "    'lambda': 0,  #1                     # L2 Regulariztion - default = 1\n",
    "    'scale_pos_weight': 4,             # 1 (choose small for high class imbalance)\n",
    "    'subsample': 0.6,                    # 0.5-0.9\n",
    "    'colsample_bytree': 0.8,             # 0.5-0.9\n",
    "    'colsample_bylevel': 0.7,              # 0.5-0.9\n",
    "    'max_depth': 6,  #5                  # 3-10 \n",
    "    'eta': 0.1,                        # 0.05-0.3\n",
    "    'silent': 0,                       # 0 - prints progress    1 - quiet\n",
    "    'objective': 'binary:logistic',        \n",
    "    'num_class': 1,             \n",
    "    'eval_metric': 'auc'}  \n",
    "num_round = 10000                                      # the number of training iterations if not stopped early\n",
    "evallist = [(Dtrain, 'train'), (Dval, 'eval')]        # Specify validation set to watch performance"
   ]
  },
  {
   "cell_type": "code",
   "execution_count": 67,
   "metadata": {
    "scrolled": true
   },
   "outputs": [
    {
     "name": "stdout",
     "output_type": "stream",
     "text": [
      "[0]\ttrain-auc:0.681593\teval-auc:0.673019\n",
      "Multiple eval metrics have been passed: 'eval-auc' will be used for early stopping.\n",
      "\n",
      "Will train until eval-auc hasn't improved in 10 rounds.\n",
      "[1]\ttrain-auc:0.708966\teval-auc:0.695573\n",
      "[2]\ttrain-auc:0.713663\teval-auc:0.697831\n",
      "[3]\ttrain-auc:0.715432\teval-auc:0.700433\n",
      "[4]\ttrain-auc:0.721662\teval-auc:0.706891\n",
      "[5]\ttrain-auc:0.725506\teval-auc:0.708559\n",
      "[6]\ttrain-auc:0.727813\teval-auc:0.711633\n",
      "[7]\ttrain-auc:0.73108\teval-auc:0.714962\n",
      "[8]\ttrain-auc:0.732112\teval-auc:0.714979\n",
      "[9]\ttrain-auc:0.734006\teval-auc:0.716503\n",
      "[10]\ttrain-auc:0.736809\teval-auc:0.718603\n",
      "[11]\ttrain-auc:0.739628\teval-auc:0.721302\n",
      "[12]\ttrain-auc:0.740354\teval-auc:0.722582\n",
      "[13]\ttrain-auc:0.742697\teval-auc:0.724515\n",
      "[14]\ttrain-auc:0.744964\teval-auc:0.726651\n",
      "[15]\ttrain-auc:0.745485\teval-auc:0.727302\n",
      "[16]\ttrain-auc:0.748981\teval-auc:0.731131\n",
      "[17]\ttrain-auc:0.749677\teval-auc:0.731652\n",
      "[18]\ttrain-auc:0.750579\teval-auc:0.732278\n",
      "[19]\ttrain-auc:0.751846\teval-auc:0.733122\n",
      "[20]\ttrain-auc:0.753159\teval-auc:0.733598\n",
      "[21]\ttrain-auc:0.753909\teval-auc:0.734191\n",
      "[22]\ttrain-auc:0.754981\teval-auc:0.734996\n",
      "[23]\ttrain-auc:0.756839\teval-auc:0.736519\n",
      "[24]\ttrain-auc:0.758304\teval-auc:0.737981\n",
      "[25]\ttrain-auc:0.760109\teval-auc:0.739329\n",
      "[26]\ttrain-auc:0.76107\teval-auc:0.740464\n",
      "[27]\ttrain-auc:0.762417\teval-auc:0.742163\n",
      "[28]\ttrain-auc:0.763755\teval-auc:0.74317\n",
      "[29]\ttrain-auc:0.76532\teval-auc:0.744959\n",
      "[30]\ttrain-auc:0.765937\teval-auc:0.745761\n",
      "[31]\ttrain-auc:0.76665\teval-auc:0.746206\n",
      "[32]\ttrain-auc:0.768426\teval-auc:0.747658\n",
      "[33]\ttrain-auc:0.769213\teval-auc:0.74785\n",
      "[34]\ttrain-auc:0.770995\teval-auc:0.749386\n",
      "[35]\ttrain-auc:0.77178\teval-auc:0.750306\n",
      "[36]\ttrain-auc:0.772458\teval-auc:0.751045\n",
      "[37]\ttrain-auc:0.773652\teval-auc:0.752033\n",
      "[38]\ttrain-auc:0.775261\teval-auc:0.753415\n",
      "[39]\ttrain-auc:0.776013\teval-auc:0.754024\n",
      "[40]\ttrain-auc:0.778056\teval-auc:0.755913\n",
      "[41]\ttrain-auc:0.778664\teval-auc:0.756277\n",
      "[42]\ttrain-auc:0.779297\teval-auc:0.756719\n",
      "[43]\ttrain-auc:0.780105\teval-auc:0.757475\n",
      "[44]\ttrain-auc:0.780625\teval-auc:0.757781\n",
      "[45]\ttrain-auc:0.782708\teval-auc:0.759568\n",
      "[46]\ttrain-auc:0.783833\teval-auc:0.760506\n",
      "[47]\ttrain-auc:0.784245\teval-auc:0.760709\n",
      "[48]\ttrain-auc:0.784841\teval-auc:0.760906\n",
      "[49]\ttrain-auc:0.785399\teval-auc:0.761445\n",
      "[50]\ttrain-auc:0.78602\teval-auc:0.761614\n",
      "[51]\ttrain-auc:0.786702\teval-auc:0.76185\n",
      "[52]\ttrain-auc:0.787028\teval-auc:0.762081\n",
      "[53]\ttrain-auc:0.788914\teval-auc:0.763581\n",
      "[54]\ttrain-auc:0.78931\teval-auc:0.763768\n",
      "[55]\ttrain-auc:0.790001\teval-auc:0.7642\n",
      "[56]\ttrain-auc:0.790509\teval-auc:0.764523\n",
      "[57]\ttrain-auc:0.791237\teval-auc:0.765279\n",
      "[58]\ttrain-auc:0.792578\teval-auc:0.766294\n",
      "[59]\ttrain-auc:0.793969\teval-auc:0.767534\n",
      "[60]\ttrain-auc:0.794841\teval-auc:0.768102\n",
      "[61]\ttrain-auc:0.795279\teval-auc:0.768556\n",
      "[62]\ttrain-auc:0.79551\teval-auc:0.768781\n",
      "[63]\ttrain-auc:0.796329\teval-auc:0.769116\n",
      "[64]\ttrain-auc:0.797135\teval-auc:0.769752\n",
      "[65]\ttrain-auc:0.797724\teval-auc:0.770023\n",
      "[66]\ttrain-auc:0.798414\teval-auc:0.770196\n",
      "[67]\ttrain-auc:0.798557\teval-auc:0.770255\n",
      "[68]\ttrain-auc:0.799095\teval-auc:0.770705\n",
      "[69]\ttrain-auc:0.799798\teval-auc:0.771218\n",
      "[70]\ttrain-auc:0.800141\teval-auc:0.771456\n",
      "[71]\ttrain-auc:0.801029\teval-auc:0.772293\n",
      "[72]\ttrain-auc:0.801156\teval-auc:0.77234\n",
      "[73]\ttrain-auc:0.801325\teval-auc:0.772499\n",
      "[74]\ttrain-auc:0.8019\teval-auc:0.772985\n",
      "[75]\ttrain-auc:0.802675\teval-auc:0.77372\n",
      "[76]\ttrain-auc:0.803719\teval-auc:0.774485\n",
      "[77]\ttrain-auc:0.804278\teval-auc:0.774766\n",
      "[78]\ttrain-auc:0.80497\teval-auc:0.775494\n",
      "[79]\ttrain-auc:0.805541\teval-auc:0.775905\n",
      "[80]\ttrain-auc:0.805832\teval-auc:0.775898\n",
      "[81]\ttrain-auc:0.806226\teval-auc:0.776252\n",
      "[82]\ttrain-auc:0.806598\teval-auc:0.77621\n",
      "[83]\ttrain-auc:0.80742\teval-auc:0.776583\n",
      "[84]\ttrain-auc:0.807843\teval-auc:0.777022\n",
      "[85]\ttrain-auc:0.808217\teval-auc:0.777338\n",
      "[86]\ttrain-auc:0.8087\teval-auc:0.77766\n",
      "[87]\ttrain-auc:0.809541\teval-auc:0.778397\n",
      "[88]\ttrain-auc:0.809894\teval-auc:0.778578\n",
      "[89]\ttrain-auc:0.810338\teval-auc:0.77866\n",
      "[90]\ttrain-auc:0.810721\teval-auc:0.778881\n",
      "[91]\ttrain-auc:0.81146\teval-auc:0.779262\n",
      "[92]\ttrain-auc:0.812604\teval-auc:0.780343\n",
      "[93]\ttrain-auc:0.812928\teval-auc:0.780383\n",
      "[94]\ttrain-auc:0.813431\teval-auc:0.780652\n",
      "[95]\ttrain-auc:0.813826\teval-auc:0.78085\n",
      "[96]\ttrain-auc:0.814486\teval-auc:0.781437\n",
      "[97]\ttrain-auc:0.814795\teval-auc:0.781369\n",
      "[98]\ttrain-auc:0.815207\teval-auc:0.781591\n",
      "[99]\ttrain-auc:0.815658\teval-auc:0.781697\n",
      "[100]\ttrain-auc:0.815974\teval-auc:0.781663\n",
      "[101]\ttrain-auc:0.81632\teval-auc:0.781696\n",
      "[102]\ttrain-auc:0.816485\teval-auc:0.78168\n",
      "[103]\ttrain-auc:0.816898\teval-auc:0.781768\n",
      "[104]\ttrain-auc:0.817494\teval-auc:0.782301\n",
      "[105]\ttrain-auc:0.817939\teval-auc:0.782495\n",
      "[106]\ttrain-auc:0.818146\teval-auc:0.782483\n",
      "[107]\ttrain-auc:0.818402\teval-auc:0.782516\n",
      "[108]\ttrain-auc:0.819132\teval-auc:0.783278\n",
      "[109]\ttrain-auc:0.8193\teval-auc:0.783259\n",
      "[110]\ttrain-auc:0.819687\teval-auc:0.783534\n",
      "[111]\ttrain-auc:0.820016\teval-auc:0.783661\n",
      "[112]\ttrain-auc:0.820302\teval-auc:0.783755\n",
      "[113]\ttrain-auc:0.820483\teval-auc:0.783811\n",
      "[114]\ttrain-auc:0.821292\teval-auc:0.784629\n",
      "[115]\ttrain-auc:0.821606\teval-auc:0.784666\n",
      "[116]\ttrain-auc:0.821989\teval-auc:0.784786\n",
      "[117]\ttrain-auc:0.822419\teval-auc:0.785036\n",
      "[118]\ttrain-auc:0.822817\teval-auc:0.785327\n",
      "[119]\ttrain-auc:0.823247\teval-auc:0.785433\n",
      "[120]\ttrain-auc:0.823518\teval-auc:0.785548\n",
      "[121]\ttrain-auc:0.823751\teval-auc:0.785593\n",
      "[122]\ttrain-auc:0.823962\teval-auc:0.78587\n",
      "[123]\ttrain-auc:0.82421\teval-auc:0.786038\n",
      "[124]\ttrain-auc:0.8246\teval-auc:0.786132\n",
      "[125]\ttrain-auc:0.824994\teval-auc:0.786266\n",
      "[126]\ttrain-auc:0.825084\teval-auc:0.786313\n",
      "[127]\ttrain-auc:0.825716\teval-auc:0.786855\n",
      "[128]\ttrain-auc:0.826196\teval-auc:0.787041\n",
      "[129]\ttrain-auc:0.8263\teval-auc:0.787078\n",
      "[130]\ttrain-auc:0.826775\teval-auc:0.787316\n",
      "[131]\ttrain-auc:0.827184\teval-auc:0.787535\n",
      "[132]\ttrain-auc:0.827445\teval-auc:0.787637\n",
      "[133]\ttrain-auc:0.827783\teval-auc:0.787958\n",
      "[134]\ttrain-auc:0.827968\teval-auc:0.788051\n",
      "[135]\ttrain-auc:0.828097\teval-auc:0.788062\n",
      "[136]\ttrain-auc:0.828364\teval-auc:0.788098\n",
      "[137]\ttrain-auc:0.828837\teval-auc:0.788378\n",
      "[138]\ttrain-auc:0.82904\teval-auc:0.788284\n",
      "[139]\ttrain-auc:0.829347\teval-auc:0.788519\n",
      "[140]\ttrain-auc:0.829683\teval-auc:0.7888\n",
      "[141]\ttrain-auc:0.830089\teval-auc:0.789055\n",
      "[142]\ttrain-auc:0.830265\teval-auc:0.788997\n",
      "[143]\ttrain-auc:0.830755\teval-auc:0.789245\n",
      "[144]\ttrain-auc:0.831193\teval-auc:0.789405\n",
      "[145]\ttrain-auc:0.831431\teval-auc:0.789437\n",
      "[146]\ttrain-auc:0.831658\teval-auc:0.789494\n",
      "[147]\ttrain-auc:0.831824\teval-auc:0.78964\n",
      "[148]\ttrain-auc:0.83207\teval-auc:0.789778\n",
      "[149]\ttrain-auc:0.832502\teval-auc:0.789971\n",
      "[150]\ttrain-auc:0.832618\teval-auc:0.789908\n",
      "[151]\ttrain-auc:0.832908\teval-auc:0.789868\n",
      "[152]\ttrain-auc:0.833223\teval-auc:0.790107\n",
      "[153]\ttrain-auc:0.833533\teval-auc:0.790187\n",
      "[154]\ttrain-auc:0.833719\teval-auc:0.790211\n",
      "[155]\ttrain-auc:0.833861\teval-auc:0.790138\n",
      "[156]\ttrain-auc:0.834031\teval-auc:0.790105\n",
      "[157]\ttrain-auc:0.834174\teval-auc:0.790042\n",
      "[158]\ttrain-auc:0.83454\teval-auc:0.790002\n",
      "[159]\ttrain-auc:0.834772\teval-auc:0.790068\n",
      "[160]\ttrain-auc:0.834972\teval-auc:0.790167\n",
      "[161]\ttrain-auc:0.835171\teval-auc:0.790223\n",
      "[162]\ttrain-auc:0.835531\teval-auc:0.790477\n",
      "[163]\ttrain-auc:0.835826\teval-auc:0.790615\n",
      "[164]\ttrain-auc:0.836051\teval-auc:0.790544\n",
      "[165]\ttrain-auc:0.836314\teval-auc:0.790695\n",
      "[166]\ttrain-auc:0.836552\teval-auc:0.790836\n",
      "[167]\ttrain-auc:0.836748\teval-auc:0.790873\n",
      "[168]\ttrain-auc:0.836864\teval-auc:0.790938\n",
      "[169]\ttrain-auc:0.83713\teval-auc:0.790851\n",
      "[170]\ttrain-auc:0.837357\teval-auc:0.790837\n",
      "[171]\ttrain-auc:0.837621\teval-auc:0.790862\n",
      "[172]\ttrain-auc:0.837992\teval-auc:0.791139\n",
      "[173]\ttrain-auc:0.838254\teval-auc:0.791255\n",
      "[174]\ttrain-auc:0.838502\teval-auc:0.79132\n",
      "[175]\ttrain-auc:0.838571\teval-auc:0.791355\n",
      "[176]\ttrain-auc:0.838704\teval-auc:0.79129\n",
      "[177]\ttrain-auc:0.839022\teval-auc:0.79157\n",
      "[178]\ttrain-auc:0.839239\teval-auc:0.791691\n",
      "[179]\ttrain-auc:0.839404\teval-auc:0.7917\n",
      "[180]\ttrain-auc:0.839667\teval-auc:0.791688\n",
      "[181]\ttrain-auc:0.839849\teval-auc:0.791602\n",
      "[182]\ttrain-auc:0.839998\teval-auc:0.791713\n",
      "[183]\ttrain-auc:0.840388\teval-auc:0.792091\n",
      "[184]\ttrain-auc:0.840662\teval-auc:0.792269\n",
      "[185]\ttrain-auc:0.840985\teval-auc:0.792388\n",
      "[186]\ttrain-auc:0.841217\teval-auc:0.79253\n",
      "[187]\ttrain-auc:0.841353\teval-auc:0.792582\n",
      "[188]\ttrain-auc:0.841689\teval-auc:0.792675\n",
      "[189]\ttrain-auc:0.841899\teval-auc:0.792757\n",
      "[190]\ttrain-auc:0.8422\teval-auc:0.793047\n"
     ]
    },
    {
     "name": "stdout",
     "output_type": "stream",
     "text": [
      "[191]\ttrain-auc:0.8424\teval-auc:0.793089\n",
      "[192]\ttrain-auc:0.842555\teval-auc:0.793081\n",
      "[193]\ttrain-auc:0.842752\teval-auc:0.793246\n",
      "[194]\ttrain-auc:0.84297\teval-auc:0.793264\n",
      "[195]\ttrain-auc:0.843215\teval-auc:0.79341\n",
      "[196]\ttrain-auc:0.843435\teval-auc:0.79341\n",
      "[197]\ttrain-auc:0.843579\teval-auc:0.793594\n",
      "[198]\ttrain-auc:0.843717\teval-auc:0.793635\n",
      "[199]\ttrain-auc:0.843946\teval-auc:0.793739\n",
      "[200]\ttrain-auc:0.844329\teval-auc:0.793734\n",
      "[201]\ttrain-auc:0.844625\teval-auc:0.793829\n",
      "[202]\ttrain-auc:0.844824\teval-auc:0.793814\n",
      "[203]\ttrain-auc:0.844939\teval-auc:0.793751\n",
      "[204]\ttrain-auc:0.845151\teval-auc:0.793992\n",
      "[205]\ttrain-auc:0.845382\teval-auc:0.793984\n",
      "[206]\ttrain-auc:0.84554\teval-auc:0.794059\n",
      "[207]\ttrain-auc:0.845766\teval-auc:0.794119\n",
      "[208]\ttrain-auc:0.845943\teval-auc:0.794271\n",
      "[209]\ttrain-auc:0.846094\teval-auc:0.79433\n",
      "[210]\ttrain-auc:0.846291\teval-auc:0.79424\n",
      "[211]\ttrain-auc:0.846357\teval-auc:0.794189\n",
      "[212]\ttrain-auc:0.846569\teval-auc:0.794215\n",
      "[213]\ttrain-auc:0.846871\teval-auc:0.794166\n",
      "[214]\ttrain-auc:0.847082\teval-auc:0.794137\n",
      "[215]\ttrain-auc:0.847349\teval-auc:0.794228\n",
      "[216]\ttrain-auc:0.847503\teval-auc:0.794268\n",
      "[217]\ttrain-auc:0.847726\teval-auc:0.794281\n",
      "[218]\ttrain-auc:0.848008\teval-auc:0.794389\n",
      "[219]\ttrain-auc:0.848172\teval-auc:0.794429\n",
      "[220]\ttrain-auc:0.848282\teval-auc:0.794431\n",
      "[221]\ttrain-auc:0.8485\teval-auc:0.794286\n",
      "[222]\ttrain-auc:0.848905\teval-auc:0.794499\n",
      "[223]\ttrain-auc:0.849224\teval-auc:0.794553\n",
      "[224]\ttrain-auc:0.849418\teval-auc:0.794629\n",
      "[225]\ttrain-auc:0.849691\teval-auc:0.794783\n",
      "[226]\ttrain-auc:0.849857\teval-auc:0.794776\n",
      "[227]\ttrain-auc:0.850048\teval-auc:0.794694\n",
      "[228]\ttrain-auc:0.850219\teval-auc:0.794662\n",
      "[229]\ttrain-auc:0.850426\teval-auc:0.794637\n",
      "[230]\ttrain-auc:0.850654\teval-auc:0.794716\n",
      "[231]\ttrain-auc:0.850792\teval-auc:0.794635\n",
      "[232]\ttrain-auc:0.850958\teval-auc:0.794573\n",
      "[233]\ttrain-auc:0.85106\teval-auc:0.79455\n",
      "[234]\ttrain-auc:0.851333\teval-auc:0.7947\n",
      "[235]\ttrain-auc:0.851551\teval-auc:0.79491\n",
      "[236]\ttrain-auc:0.85166\teval-auc:0.794918\n",
      "[237]\ttrain-auc:0.851922\teval-auc:0.795007\n",
      "[238]\ttrain-auc:0.852153\teval-auc:0.795102\n",
      "[239]\ttrain-auc:0.852355\teval-auc:0.795133\n",
      "[240]\ttrain-auc:0.85248\teval-auc:0.795105\n",
      "[241]\ttrain-auc:0.852634\teval-auc:0.795152\n",
      "[242]\ttrain-auc:0.852726\teval-auc:0.795137\n",
      "[243]\ttrain-auc:0.852973\teval-auc:0.795096\n",
      "[244]\ttrain-auc:0.8532\teval-auc:0.795211\n",
      "[245]\ttrain-auc:0.853468\teval-auc:0.795518\n",
      "[246]\ttrain-auc:0.853629\teval-auc:0.795555\n",
      "[247]\ttrain-auc:0.853746\teval-auc:0.795623\n",
      "[248]\ttrain-auc:0.853965\teval-auc:0.795594\n",
      "[249]\ttrain-auc:0.854154\teval-auc:0.795552\n",
      "[250]\ttrain-auc:0.854475\teval-auc:0.795638\n",
      "[251]\ttrain-auc:0.854599\teval-auc:0.795761\n",
      "[252]\ttrain-auc:0.85486\teval-auc:0.795908\n",
      "[253]\ttrain-auc:0.854946\teval-auc:0.795933\n",
      "[254]\ttrain-auc:0.855115\teval-auc:0.795883\n",
      "[255]\ttrain-auc:0.855284\teval-auc:0.795872\n",
      "[256]\ttrain-auc:0.855447\teval-auc:0.795814\n",
      "[257]\ttrain-auc:0.855604\teval-auc:0.795759\n",
      "[258]\ttrain-auc:0.855709\teval-auc:0.795752\n",
      "[259]\ttrain-auc:0.855958\teval-auc:0.795774\n",
      "[260]\ttrain-auc:0.856296\teval-auc:0.795778\n",
      "[261]\ttrain-auc:0.856519\teval-auc:0.795704\n",
      "[262]\ttrain-auc:0.856704\teval-auc:0.795718\n",
      "[263]\ttrain-auc:0.856796\teval-auc:0.795749\n",
      "Stopping. Best iteration:\n",
      "[253]\ttrain-auc:0.854946\teval-auc:0.795933\n",
      "\n",
      "Best error: 0.80 with 254 rounds\n"
     ]
    }
   ],
   "source": [
    "# Train the model on the training set to get an initial impression on the performance\n",
    "model = xgb.train(param, Dtrain, num_round, evallist, early_stopping_rounds=10)\n",
    "print(\"Best error: {:.2f} with {} rounds\".format(\n",
    "                 model.best_score,\n",
    "                 model.best_iteration+1))"
   ]
  },
  {
   "cell_type": "code",
   "execution_count": 68,
   "metadata": {},
   "outputs": [],
   "source": [
    "Dtest = xgb.DMatrix(x_test, label=y_test)\n",
    "probas = model.predict(Dtest)\n",
    "y_test = Dtest.get_label()"
   ]
  },
  {
   "cell_type": "code",
   "execution_count": 69,
   "metadata": {
    "scrolled": false
   },
   "outputs": [
    {
     "name": "stderr",
     "output_type": "stream",
     "text": [
      "/home/dbeiski/PycharmProjects/fl5/linear_models/venv3.5/lib/python3.5/site-packages/sklearn/metrics/classification.py:1437: UndefinedMetricWarning: Precision is ill-defined and being set to 0.0 due to no predicted samples.\n",
      "  'precision', 'predicted', average, warn_for)\n",
      "/home/dbeiski/PycharmProjects/fl5/linear_models/venv3.5/lib/python3.5/site-packages/sklearn/metrics/classification.py:1437: UndefinedMetricWarning: F-score is ill-defined and being set to 0.0 due to no predicted samples.\n",
      "  'precision', 'predicted', average, warn_for)\n"
     ]
    },
    {
     "data": {
      "image/png": "[encoded data removed]",
      "text/plain": [
       "<Figure size 1440x720 with 4 Axes>"
      ]
     },
     "metadata": {
      "needs_background": "light"
     },
     "output_type": "display_data"
    }
   ],
   "source": [
    "accs, recalls, precs, f1s = [], [], [], []\n",
    "for thr in thres:\n",
    "    y_pred = (probas > thr).astype(int)\n",
    "    accs.append(skm.accuracy_score(y_test, y_pred))\n",
    "    recalls.append(skm.recall_score(y_test, y_pred))\n",
    "    precs.append(skm.precision_score(y_test, y_pred))\n",
    "    f1s.append(skm.f1_score(y_test, y_pred))\n",
    "    \n",
    "fig = plt.figure(figsize=(20, 10))\n",
    "fig.subplots_adjust(hspace=0.4, wspace=0.4)\n",
    "for i, (metric, name) in enumerate(zip([accs, recalls, precs, f1s], ['acc', 'rcl', 'prc', 'f1']), start=1):\n",
    "    fig.add_subplot(2, 2, i)\n",
    "    plt.plot(thres, metric)\n",
    "    plt.title(name)\n"
   ]
  },
  {
   "cell_type": "code",
   "execution_count": 70,
   "metadata": {
    "scrolled": true
   },
   "outputs": [
    {
     "data": {
      "image/png": "[encoded data removed]",
      "text/plain": [
       "<Figure size 432x288 with 1 Axes>"
      ]
     },
     "metadata": {
      "needs_background": "light"
     },
     "output_type": "display_data"
    }
   ],
   "source": [
    "tpr, fpr, _ = roc_curve(y_test, probas)\n",
    "plt.plot(tpr, fpr);"
   ]
  },
  {
   "cell_type": "code",
   "execution_count": 71,
   "metadata": {},
   "outputs": [
    {
     "name": "stdout",
     "output_type": "stream",
     "text": [
      "Best threshold:  0.5811623246492985\n",
      "Acc for max f1 threshold:  0.800641736887876\n",
      "Max acc :  0.8270609050289381\n",
      "Recall :  0.6014313239746766\n",
      "Precision:  0.5380448165476484\n"
     ]
    }
   ],
   "source": [
    "best_thres = thres[np.argmax(f1s)]\n",
    "y_pred = (probas > best_thres).astype(int)\n",
    "print('Best threshold: ', best_thres)\n",
    "print('Acc for max f1 threshold: ', skm.accuracy_score(y_test, y_pred))\n",
    "print('Max acc : ', max(accs))\n",
    "print('Recall : ', skm.recall_score(y_test, y_pred))\n",
    "print('Precision: ', skm.precision_score(y_test, y_pred))"
   ]
  },
  {
   "cell_type": "code",
   "execution_count": 72,
   "metadata": {},
   "outputs": [
    {
     "data": {
      "image/png": "[encoded data removed]",
      "text/plain": [
       "<Figure size 432x288 with 1 Axes>"
      ]
     },
     "metadata": {
      "needs_background": "light"
     },
     "output_type": "display_data"
    }
   ],
   "source": [
    "xgb.plot_importance(model, max_num_features=20, importance_type='gain');"
   ]
  },
  {
   "cell_type": "code",
   "execution_count": null,
   "metadata": {},
   "outputs": [],
   "source": []
  }
 ],
 "metadata": {
  "hide_input": false,
  "kernelspec": {
   "display_name": "Python 3",
   "language": "python",
   "name": "python3"
  },
  "language_info": {
   "codemirror_mode": {
    "name": "ipython",
    "version": 3
   },
   "file_extension": ".py",
   "mimetype": "text/x-python",
   "name": "python",
   "nbconvert_exporter": "python",
   "pygments_lexer": "ipython3",
   "version": "3.5.2"
  },
  "varInspector": {
   "cols": {
    "lenName": 16,
    "lenType": 16,
    "lenVar": 40
   },
   "kernels_config": {
    "python": {
     "delete_cmd_postfix": "",
     "delete_cmd_prefix": "del ",
     "library": "var_list.py",
     "varRefreshCmd": "print(var_dic_list())"
    },
    "r": {
     "delete_cmd_postfix": ") ",
     "delete_cmd_prefix": "rm(",
     "library": "var_list.r",
     "varRefreshCmd": "cat(var_dic_list()) "
    }
   },
   "types_to_exclude": [
    "module",
    "function",
    "builtin_function_or_method",
    "instance",
    "_Feature"
   ],
   "window_display": false
  }
 },
 "nbformat": 4,
 "nbformat_minor": 2
}
