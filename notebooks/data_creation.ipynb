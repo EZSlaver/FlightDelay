{
 "cells": [
  {
   "cell_type": "code",
   "execution_count": 2,
   "metadata": {
    "ExecuteTime": {
     "end_time": "2019-08-23T11:55:18.801903Z",
     "start_time": "2019-08-23T11:55:18.473266Z"
    }
   },
   "outputs": [],
   "source": [
    "import numpy as np\n",
    "import pandas as pd\n",
    "import os\n",
    "import glob\n",
    "import re"
   ]
  },
  {
   "cell_type": "code",
   "execution_count": 3,
   "metadata": {
    "ExecuteTime": {
     "end_time": "2019-08-23T11:55:19.251710Z",
     "start_time": "2019-08-23T11:55:19.249233Z"
    }
   },
   "outputs": [],
   "source": [
    "source_path = '../Data/All/'\n",
    "target_path = '../Data/All/'"
   ]
  },
  {
   "cell_type": "code",
   "execution_count": 8,
   "metadata": {
    "ExecuteTime": {
     "end_time": "2019-08-23T12:03:21.548415Z",
     "start_time": "2019-08-23T12:03:21.539521Z"
    },
    "collapsed": true
   },
   "outputs": [
    {
     "data": {
      "text/plain": [
       "'DEST_WAC'"
      ]
     },
     "execution_count": 8,
     "metadata": {},
     "output_type": "execute_result"
    }
   ],
   "source": [
    "def process_df(df):\n",
    "    df = df.sort_values(by=['DAY_OF_MONTH', 'CRS_DEP_TIME'])\n",
    "    df[\"DAY_OF_YEAR\"] = df[\"MONTH\"].map(str) + '_' + df[\"DAY_OF_MONTH\"].map(str)\n",
    "    return df\n",
    "\n",
    "def replace_fucking_header_format(col):\n",
    "    a = 97\n",
    "    A = 65\n",
    "    col = col.replace('Dayof', 'DayOf') # BASTARDS!\n",
    "    cols = list(df.columns.values)\n",
    "    for i in range(26):\n",
    "        col = re.sub(r'([a-z])%s' % chr(A + i), r\"\\1_\" + chr(A + i), col)\n",
    "        col = re.sub(r'([A-Z]+)%s([a-z])' % chr(A + i), r\"\\1_\" + chr(A + i) + r\"\\2\", col)\n",
    "    \n",
    "    return str.upper(col)\n",
    "\n",
    "replace_fucking_header_format('DestWac')"
   ]
  },
  {
   "cell_type": "markdown",
   "metadata": {},
   "source": [
    "Make sure all column names are the same, and in the same order:"
   ]
  },
  {
   "cell_type": "code",
   "execution_count": 12,
   "metadata": {
    "ExecuteTime": {
     "end_time": "2019-08-23T12:09:48.422913Z",
     "start_time": "2019-08-23T12:07:33.021423Z"
    }
   },
   "outputs": [
    {
     "name": "stdout",
     "output_type": "stream",
     "text": [
      "../Data/All/14_05.csv\n",
      "Index(['YEAR', 'QUARTER', 'MONTH', 'DAY_OF_MONTH', 'DAY_OF_WEEK',\n",
      "       'FLIGHT_DATE', 'REPORTING_AIRLINE', 'DOT_ID_REPORTING_AIRLINE',\n",
      "       'IATA_CODE_REPORTING_AIRLINE', 'TAIL_NUMBER',\n",
      "       ...\n",
      "       'DIV4TAIL_NUM', 'DIV5AIRPORT', 'DIV5AIRPORT_ID', 'DIV5AIRPORT_SEQ_ID',\n",
      "       'DIV5WHEELS_ON', 'DIV5TOTAL_G_TIME', 'DIV5LONGEST_G_TIME',\n",
      "       'DIV5WHEELS_OFF', 'DIV5TAIL_NUM', 'UNNAMED: 109'],\n",
      "      dtype='object', length=110)\n"
     ]
    },
    {
     "ename": "KeyboardInterrupt",
     "evalue": "",
     "output_type": "error",
     "traceback": [
      "\u001b[0;31m---------------------------------------------------------------------------\u001b[0m",
      "\u001b[0;31mKeyboardInterrupt\u001b[0m                         Traceback (most recent call last)",
      "\u001b[0;32m<ipython-input-12-7efb0eaf57fe>\u001b[0m in \u001b[0;36m<module>\u001b[0;34m\u001b[0m\n\u001b[1;32m      7\u001b[0m \u001b[0mcols\u001b[0m \u001b[0;34m=\u001b[0m \u001b[0;32mNone\u001b[0m\u001b[0;34m\u001b[0m\u001b[0;34m\u001b[0m\u001b[0m\n\u001b[1;32m      8\u001b[0m \u001b[0;32mfor\u001b[0m \u001b[0mfname\u001b[0m \u001b[0;32min\u001b[0m \u001b[0mfile_list\u001b[0m\u001b[0;34m:\u001b[0m\u001b[0;34m\u001b[0m\u001b[0;34m\u001b[0m\u001b[0m\n\u001b[0;32m----> 9\u001b[0;31m     \u001b[0mdf\u001b[0m \u001b[0;34m=\u001b[0m \u001b[0mpd\u001b[0m\u001b[0;34m.\u001b[0m\u001b[0mread_csv\u001b[0m\u001b[0;34m(\u001b[0m\u001b[0mfname\u001b[0m\u001b[0;34m)\u001b[0m\u001b[0;34m\u001b[0m\u001b[0;34m\u001b[0m\u001b[0m\n\u001b[0m\u001b[1;32m     10\u001b[0m     \u001b[0mdf\u001b[0m\u001b[0;34m.\u001b[0m\u001b[0mcolumns\u001b[0m \u001b[0;34m=\u001b[0m \u001b[0mmap\u001b[0m\u001b[0;34m(\u001b[0m\u001b[0mreplace_fucking_header_format\u001b[0m\u001b[0;34m,\u001b[0m \u001b[0mdf\u001b[0m\u001b[0;34m.\u001b[0m\u001b[0mcolumns\u001b[0m\u001b[0;34m)\u001b[0m\u001b[0;34m\u001b[0m\u001b[0;34m\u001b[0m\u001b[0m\n\u001b[1;32m     11\u001b[0m     \u001b[0;32mif\u001b[0m \u001b[0mcols\u001b[0m \u001b[0;32mis\u001b[0m \u001b[0;32mNone\u001b[0m\u001b[0;34m:\u001b[0m\u001b[0;34m\u001b[0m\u001b[0;34m\u001b[0m\u001b[0m\n",
      "\u001b[0;32m~/shared_venv_3.7/lib/python3.7/site-packages/pandas/io/parsers.py\u001b[0m in \u001b[0;36mparser_f\u001b[0;34m(filepath_or_buffer, sep, delimiter, header, names, index_col, usecols, squeeze, prefix, mangle_dupe_cols, dtype, engine, converters, true_values, false_values, skipinitialspace, skiprows, skipfooter, nrows, na_values, keep_default_na, na_filter, verbose, skip_blank_lines, parse_dates, infer_datetime_format, keep_date_col, date_parser, dayfirst, cache_dates, iterator, chunksize, compression, thousands, decimal, lineterminator, quotechar, quoting, doublequote, escapechar, comment, encoding, dialect, error_bad_lines, warn_bad_lines, delim_whitespace, low_memory, memory_map, float_precision)\u001b[0m\n\u001b[1;32m    683\u001b[0m         )\n\u001b[1;32m    684\u001b[0m \u001b[0;34m\u001b[0m\u001b[0m\n\u001b[0;32m--> 685\u001b[0;31m         \u001b[0;32mreturn\u001b[0m \u001b[0m_read\u001b[0m\u001b[0;34m(\u001b[0m\u001b[0mfilepath_or_buffer\u001b[0m\u001b[0;34m,\u001b[0m \u001b[0mkwds\u001b[0m\u001b[0;34m)\u001b[0m\u001b[0;34m\u001b[0m\u001b[0;34m\u001b[0m\u001b[0m\n\u001b[0m\u001b[1;32m    686\u001b[0m \u001b[0;34m\u001b[0m\u001b[0m\n\u001b[1;32m    687\u001b[0m     \u001b[0mparser_f\u001b[0m\u001b[0;34m.\u001b[0m\u001b[0m__name__\u001b[0m \u001b[0;34m=\u001b[0m \u001b[0mname\u001b[0m\u001b[0;34m\u001b[0m\u001b[0;34m\u001b[0m\u001b[0m\n",
      "\u001b[0;32m~/shared_venv_3.7/lib/python3.7/site-packages/pandas/io/parsers.py\u001b[0m in \u001b[0;36m_read\u001b[0;34m(filepath_or_buffer, kwds)\u001b[0m\n\u001b[1;32m    461\u001b[0m \u001b[0;34m\u001b[0m\u001b[0m\n\u001b[1;32m    462\u001b[0m     \u001b[0;32mtry\u001b[0m\u001b[0;34m:\u001b[0m\u001b[0;34m\u001b[0m\u001b[0;34m\u001b[0m\u001b[0m\n\u001b[0;32m--> 463\u001b[0;31m         \u001b[0mdata\u001b[0m \u001b[0;34m=\u001b[0m \u001b[0mparser\u001b[0m\u001b[0;34m.\u001b[0m\u001b[0mread\u001b[0m\u001b[0;34m(\u001b[0m\u001b[0mnrows\u001b[0m\u001b[0;34m)\u001b[0m\u001b[0;34m\u001b[0m\u001b[0;34m\u001b[0m\u001b[0m\n\u001b[0m\u001b[1;32m    464\u001b[0m     \u001b[0;32mfinally\u001b[0m\u001b[0;34m:\u001b[0m\u001b[0;34m\u001b[0m\u001b[0;34m\u001b[0m\u001b[0m\n\u001b[1;32m    465\u001b[0m         \u001b[0mparser\u001b[0m\u001b[0;34m.\u001b[0m\u001b[0mclose\u001b[0m\u001b[0;34m(\u001b[0m\u001b[0;34m)\u001b[0m\u001b[0;34m\u001b[0m\u001b[0;34m\u001b[0m\u001b[0m\n",
      "\u001b[0;32m~/shared_venv_3.7/lib/python3.7/site-packages/pandas/io/parsers.py\u001b[0m in \u001b[0;36mread\u001b[0;34m(self, nrows)\u001b[0m\n\u001b[1;32m   1152\u001b[0m     \u001b[0;32mdef\u001b[0m \u001b[0mread\u001b[0m\u001b[0;34m(\u001b[0m\u001b[0mself\u001b[0m\u001b[0;34m,\u001b[0m \u001b[0mnrows\u001b[0m\u001b[0;34m=\u001b[0m\u001b[0;32mNone\u001b[0m\u001b[0;34m)\u001b[0m\u001b[0;34m:\u001b[0m\u001b[0;34m\u001b[0m\u001b[0;34m\u001b[0m\u001b[0m\n\u001b[1;32m   1153\u001b[0m         \u001b[0mnrows\u001b[0m \u001b[0;34m=\u001b[0m \u001b[0m_validate_integer\u001b[0m\u001b[0;34m(\u001b[0m\u001b[0;34m\"nrows\"\u001b[0m\u001b[0;34m,\u001b[0m \u001b[0mnrows\u001b[0m\u001b[0;34m)\u001b[0m\u001b[0;34m\u001b[0m\u001b[0;34m\u001b[0m\u001b[0m\n\u001b[0;32m-> 1154\u001b[0;31m         \u001b[0mret\u001b[0m \u001b[0;34m=\u001b[0m \u001b[0mself\u001b[0m\u001b[0;34m.\u001b[0m\u001b[0m_engine\u001b[0m\u001b[0;34m.\u001b[0m\u001b[0mread\u001b[0m\u001b[0;34m(\u001b[0m\u001b[0mnrows\u001b[0m\u001b[0;34m)\u001b[0m\u001b[0;34m\u001b[0m\u001b[0;34m\u001b[0m\u001b[0m\n\u001b[0m\u001b[1;32m   1155\u001b[0m \u001b[0;34m\u001b[0m\u001b[0m\n\u001b[1;32m   1156\u001b[0m         \u001b[0;31m# May alter columns / col_dict\u001b[0m\u001b[0;34m\u001b[0m\u001b[0;34m\u001b[0m\u001b[0;34m\u001b[0m\u001b[0m\n",
      "\u001b[0;32m~/shared_venv_3.7/lib/python3.7/site-packages/pandas/io/parsers.py\u001b[0m in \u001b[0;36mread\u001b[0;34m(self, nrows)\u001b[0m\n\u001b[1;32m   2046\u001b[0m     \u001b[0;32mdef\u001b[0m \u001b[0mread\u001b[0m\u001b[0;34m(\u001b[0m\u001b[0mself\u001b[0m\u001b[0;34m,\u001b[0m \u001b[0mnrows\u001b[0m\u001b[0;34m=\u001b[0m\u001b[0;32mNone\u001b[0m\u001b[0;34m)\u001b[0m\u001b[0;34m:\u001b[0m\u001b[0;34m\u001b[0m\u001b[0;34m\u001b[0m\u001b[0m\n\u001b[1;32m   2047\u001b[0m         \u001b[0;32mtry\u001b[0m\u001b[0;34m:\u001b[0m\u001b[0;34m\u001b[0m\u001b[0;34m\u001b[0m\u001b[0m\n\u001b[0;32m-> 2048\u001b[0;31m             \u001b[0mdata\u001b[0m \u001b[0;34m=\u001b[0m \u001b[0mself\u001b[0m\u001b[0;34m.\u001b[0m\u001b[0m_reader\u001b[0m\u001b[0;34m.\u001b[0m\u001b[0mread\u001b[0m\u001b[0;34m(\u001b[0m\u001b[0mnrows\u001b[0m\u001b[0;34m)\u001b[0m\u001b[0;34m\u001b[0m\u001b[0;34m\u001b[0m\u001b[0m\n\u001b[0m\u001b[1;32m   2049\u001b[0m         \u001b[0;32mexcept\u001b[0m \u001b[0mStopIteration\u001b[0m\u001b[0;34m:\u001b[0m\u001b[0;34m\u001b[0m\u001b[0;34m\u001b[0m\u001b[0m\n\u001b[1;32m   2050\u001b[0m             \u001b[0;32mif\u001b[0m \u001b[0mself\u001b[0m\u001b[0;34m.\u001b[0m\u001b[0m_first_chunk\u001b[0m\u001b[0;34m:\u001b[0m\u001b[0;34m\u001b[0m\u001b[0;34m\u001b[0m\u001b[0m\n",
      "\u001b[0;32mpandas/_libs/parsers.pyx\u001b[0m in \u001b[0;36mpandas._libs.parsers.TextReader.read\u001b[0;34m()\u001b[0m\n",
      "\u001b[0;32mpandas/_libs/parsers.pyx\u001b[0m in \u001b[0;36mpandas._libs.parsers.TextReader._read_low_memory\u001b[0;34m()\u001b[0m\n",
      "\u001b[0;32mpandas/_libs/parsers.pyx\u001b[0m in \u001b[0;36mpandas._libs.parsers.TextReader._read_rows\u001b[0;34m()\u001b[0m\n",
      "\u001b[0;32mpandas/_libs/parsers.pyx\u001b[0m in \u001b[0;36mpandas._libs.parsers.TextReader._convert_column_data\u001b[0;34m()\u001b[0m\n",
      "\u001b[0;32mpandas/_libs/parsers.pyx\u001b[0m in \u001b[0;36mpandas._libs.parsers.TextReader._convert_tokens\u001b[0;34m()\u001b[0m\n",
      "\u001b[0;32mpandas/_libs/parsers.pyx\u001b[0m in \u001b[0;36mpandas._libs.parsers.TextReader._convert_with_dtype\u001b[0;34m()\u001b[0m\n",
      "\u001b[0;32m~/shared_venv_3.7/lib/python3.7/site-packages/pandas/core/dtypes/common.py\u001b[0m in \u001b[0;36mis_categorical_dtype\u001b[0;34m(arr_or_dtype)\u001b[0m\n\u001b[1;32m    676\u001b[0m \u001b[0;34m\u001b[0m\u001b[0m\n\u001b[1;32m    677\u001b[0m \u001b[0;34m\u001b[0m\u001b[0m\n\u001b[0;32m--> 678\u001b[0;31m \u001b[0;32mdef\u001b[0m \u001b[0mis_categorical_dtype\u001b[0m\u001b[0;34m(\u001b[0m\u001b[0marr_or_dtype\u001b[0m\u001b[0;34m)\u001b[0m\u001b[0;34m:\u001b[0m\u001b[0;34m\u001b[0m\u001b[0;34m\u001b[0m\u001b[0m\n\u001b[0m\u001b[1;32m    679\u001b[0m     \"\"\"\n\u001b[1;32m    680\u001b[0m     \u001b[0mCheck\u001b[0m \u001b[0mwhether\u001b[0m \u001b[0man\u001b[0m \u001b[0marray\u001b[0m\u001b[0;34m-\u001b[0m\u001b[0mlike\u001b[0m \u001b[0;32mor\u001b[0m \u001b[0mdtype\u001b[0m \u001b[0;32mis\u001b[0m \u001b[0mof\u001b[0m \u001b[0mthe\u001b[0m \u001b[0mCategorical\u001b[0m \u001b[0mdtype\u001b[0m\u001b[0;34m.\u001b[0m\u001b[0;34m\u001b[0m\u001b[0;34m\u001b[0m\u001b[0m\n",
      "\u001b[0;31mKeyboardInterrupt\u001b[0m: "
     ]
    }
   ],
   "source": [
    "two_numbers_wildcard = '[0-9]'*2\n",
    "file_list = sorted(glob.glob(os.path.join(source_path, \"%s_%s.csv\" % ((two_numbers_wildcard, ) * 2))))\n",
    "\n",
    "pd.options.display.max_rows = 300\n",
    "pd.options.display.max_columns = 300\n",
    "\n",
    "cols = None\n",
    "for fname in file_list:\n",
    "    df = pd.read_csv(fname)\n",
    "    df.columns = map(replace_fucking_header_format, df.columns)\n",
    "    if cols is None:\n",
    "        print(fname)\n",
    "        print(df.columns)\n",
    "        cols = list(df.columns)\n",
    "    elif len(cols) != len(df.columns):\n",
    "        print(fname)\n",
    "        df.columns\n",
    "    else:\n",
    "        for i in range(len(cols)):\n",
    "            if cols[i] != df.columns[i]: \n",
    "                print(fname)\n",
    "                print(df.columns)\n",
    "                break\n",
    "\n",
    "print('Done!')\n"
   ]
  },
  {
   "cell_type": "markdown",
   "metadata": {},
   "source": [
    "CSVs of the world, unite!"
   ]
  },
  {
   "cell_type": "code",
   "execution_count": 56,
   "metadata": {
    "ExecuteTime": {
     "end_time": "2019-08-22T18:32:57.292105Z",
     "start_time": "2019-08-22T18:03:03.777064Z"
    }
   },
   "outputs": [
    {
     "name": "stdout",
     "output_type": "stream",
     "text": [
      "Index(['YEAR', 'QUARTER', 'MONTH', 'DAY_OF_MONTH', 'DAY_OF_WEEK',\n",
      "       'FLIGHT_DATE', 'REPORTING_AIRLINE', 'DOT_ID_REPORTING_AIRLINE',\n",
      "       'IATA_CODE_REPORTING_AIRLINE', 'TAIL_NUMBER',\n",
      "       ...\n",
      "       'DIV4TAIL_NUM', 'DIV5AIRPORT', 'DIV5AIRPORT_ID', 'DIV5AIRPORT_SEQ_ID',\n",
      "       'DIV5WHEELS_ON', 'DIV5TOTAL_G_TIME', 'DIV5LONGEST_G_TIME',\n",
      "       'DIV5WHEELS_OFF', 'DIV5TAIL_NUM', 'UNNAMED: 109'],\n",
      "      dtype='object', length=110)\n",
      "Index(['YEAR', 'QUARTER', 'MONTH', 'DAY_OF_MONTH', 'DAY_OF_WEEK',\n",
      "       'FLIGHT_DATE', 'REPORTING_AIRLINE', 'DOT_ID_REPORTING_AIRLINE',\n",
      "       'IATA_CODE_REPORTING_AIRLINE', 'TAIL_NUMBER',\n",
      "       ...\n",
      "       'DIV4TAIL_NUM', 'DIV5AIRPORT', 'DIV5AIRPORT_ID', 'DIV5AIRPORT_SEQ_ID',\n",
      "       'DIV5WHEELS_ON', 'DIV5TOTAL_G_TIME', 'DIV5LONGEST_G_TIME',\n",
      "       'DIV5WHEELS_OFF', 'DIV5TAIL_NUM', 'UNNAMED: 109'],\n",
      "      dtype='object', length=110)\n"
     ]
    },
    {
     "name": "stderr",
     "output_type": "stream",
     "text": [
      "/home/erez/shared_venv_3.7/lib/python3.7/site-packages/IPython/core/interactiveshell.py:3057: DtypeWarning: Columns (76,77,84) have mixed types. Specify dtype option on import or set low_memory=False.\n",
      "  interactivity=interactivity, compiler=compiler, result=result)\n"
     ]
    },
    {
     "name": "stdout",
     "output_type": "stream",
     "text": [
      "Index(['YEAR', 'QUARTER', 'MONTH', 'DAY_OF_MONTH', 'DAY_OF_WEEK',\n",
      "       'FLIGHT_DATE', 'REPORTING_AIRLINE', 'DOT_ID_REPORTING_AIRLINE',\n",
      "       'IATA_CODE_REPORTING_AIRLINE', 'TAIL_NUMBER',\n",
      "       ...\n",
      "       'DIV4TAIL_NUM', 'DIV5AIRPORT', 'DIV5AIRPORT_ID', 'DIV5AIRPORT_SEQ_ID',\n",
      "       'DIV5WHEELS_ON', 'DIV5TOTAL_G_TIME', 'DIV5LONGEST_G_TIME',\n",
      "       'DIV5WHEELS_OFF', 'DIV5TAIL_NUM', 'UNNAMED: 109'],\n",
      "      dtype='object', length=110)\n",
      "Index(['YEAR', 'QUARTER', 'MONTH', 'DAY_OF_MONTH', 'DAY_OF_WEEK',\n",
      "       'FLIGHT_DATE', 'REPORTING_AIRLINE', 'DOT_ID_REPORTING_AIRLINE',\n",
      "       'IATA_CODE_REPORTING_AIRLINE', 'TAIL_NUMBER',\n",
      "       ...\n",
      "       'DIV4TAIL_NUM', 'DIV5AIRPORT', 'DIV5AIRPORT_ID', 'DIV5AIRPORT_SEQ_ID',\n",
      "       'DIV5WHEELS_ON', 'DIV5TOTAL_G_TIME', 'DIV5LONGEST_G_TIME',\n",
      "       'DIV5WHEELS_OFF', 'DIV5TAIL_NUM', 'UNNAMED: 109'],\n",
      "      dtype='object', length=110)\n",
      "Index(['YEAR', 'QUARTER', 'MONTH', 'DAY_OF_MONTH', 'DAY_OF_WEEK',\n",
      "       'FLIGHT_DATE', 'REPORTING_AIRLINE', 'DOT_ID_REPORTING_AIRLINE',\n",
      "       'IATA_CODE_REPORTING_AIRLINE', 'TAIL_NUMBER',\n",
      "       ...\n",
      "       'DIV4TAIL_NUM', 'DIV5AIRPORT', 'DIV5AIRPORT_ID', 'DIV5AIRPORT_SEQ_ID',\n",
      "       'DIV5WHEELS_ON', 'DIV5TOTAL_G_TIME', 'DIV5LONGEST_G_TIME',\n",
      "       'DIV5WHEELS_OFF', 'DIV5TAIL_NUM', 'UNNAMED: 109'],\n",
      "      dtype='object', length=110)\n",
      "Index(['YEAR', 'QUARTER', 'MONTH', 'DAY_OF_MONTH', 'DAY_OF_WEEK',\n",
      "       'FLIGHT_DATE', 'REPORTING_AIRLINE', 'DOT_ID_REPORTING_AIRLINE',\n",
      "       'IATA_CODE_REPORTING_AIRLINE', 'TAIL_NUMBER',\n",
      "       ...\n",
      "       'DIV4TAIL_NUM', 'DIV5AIRPORT', 'DIV5AIRPORT_ID', 'DIV5AIRPORT_SEQ_ID',\n",
      "       'DIV5WHEELS_ON', 'DIV5TOTAL_G_TIME', 'DIV5LONGEST_G_TIME',\n",
      "       'DIV5WHEELS_OFF', 'DIV5TAIL_NUM', 'UNNAMED: 109'],\n",
      "      dtype='object', length=110)\n"
     ]
    },
    {
     "name": "stderr",
     "output_type": "stream",
     "text": [
      "/home/erez/shared_venv_3.7/lib/python3.7/site-packages/IPython/core/interactiveshell.py:3057: DtypeWarning: Columns (48,69,76,77,84) have mixed types. Specify dtype option on import or set low_memory=False.\n",
      "  interactivity=interactivity, compiler=compiler, result=result)\n"
     ]
    },
    {
     "name": "stdout",
     "output_type": "stream",
     "text": [
      "Index(['YEAR', 'QUARTER', 'MONTH', 'DAY_OF_MONTH', 'DAY_OF_WEEK',\n",
      "       'FLIGHT_DATE', 'REPORTING_AIRLINE', 'DOT_ID_REPORTING_AIRLINE',\n",
      "       'IATA_CODE_REPORTING_AIRLINE', 'TAIL_NUMBER',\n",
      "       ...\n",
      "       'DIV4TAIL_NUM', 'DIV5AIRPORT', 'DIV5AIRPORT_ID', 'DIV5AIRPORT_SEQ_ID',\n",
      "       'DIV5WHEELS_ON', 'DIV5TOTAL_G_TIME', 'DIV5LONGEST_G_TIME',\n",
      "       'DIV5WHEELS_OFF', 'DIV5TAIL_NUM', 'UNNAMED: 109'],\n",
      "      dtype='object', length=110)\n",
      "Index(['YEAR', 'QUARTER', 'MONTH', 'DAY_OF_MONTH', 'DAY_OF_WEEK',\n",
      "       'FLIGHT_DATE', 'REPORTING_AIRLINE', 'DOT_ID_REPORTING_AIRLINE',\n",
      "       'IATA_CODE_REPORTING_AIRLINE', 'TAIL_NUMBER',\n",
      "       ...\n",
      "       'DIV4TAIL_NUM', 'DIV5AIRPORT', 'DIV5AIRPORT_ID', 'DIV5AIRPORT_SEQ_ID',\n",
      "       'DIV5WHEELS_ON', 'DIV5TOTAL_G_TIME', 'DIV5LONGEST_G_TIME',\n",
      "       'DIV5WHEELS_OFF', 'DIV5TAIL_NUM', 'UNNAMED: 109'],\n",
      "      dtype='object', length=110)\n"
     ]
    },
    {
     "name": "stderr",
     "output_type": "stream",
     "text": [
      "/home/erez/shared_venv_3.7/lib/python3.7/site-packages/IPython/core/interactiveshell.py:3057: DtypeWarning: Columns (77,84,85) have mixed types. Specify dtype option on import or set low_memory=False.\n",
      "  interactivity=interactivity, compiler=compiler, result=result)\n"
     ]
    },
    {
     "name": "stdout",
     "output_type": "stream",
     "text": [
      "Index(['YEAR', 'QUARTER', 'MONTH', 'DAY_OF_MONTH', 'DAY_OF_WEEK',\n",
      "       'FLIGHT_DATE', 'REPORTING_AIRLINE', 'DOT_ID_REPORTING_AIRLINE',\n",
      "       'IATA_CODE_REPORTING_AIRLINE', 'TAIL_NUMBER',\n",
      "       ...\n",
      "       'DIV4TAIL_NUM', 'DIV5AIRPORT', 'DIV5AIRPORT_ID', 'DIV5AIRPORT_SEQ_ID',\n",
      "       'DIV5WHEELS_ON', 'DIV5TOTAL_G_TIME', 'DIV5LONGEST_G_TIME',\n",
      "       'DIV5WHEELS_OFF', 'DIV5TAIL_NUM', 'UNNAMED: 109'],\n",
      "      dtype='object', length=110)\n",
      "Index(['YEAR', 'QUARTER', 'MONTH', 'DAY_OF_MONTH', 'DAY_OF_WEEK',\n",
      "       'FLIGHT_DATE', 'REPORTING_AIRLINE', 'DOT_ID_REPORTING_AIRLINE',\n",
      "       'IATA_CODE_REPORTING_AIRLINE', 'TAIL_NUMBER',\n",
      "       ...\n",
      "       'DIV4TAIL_NUM', 'DIV5AIRPORT', 'DIV5AIRPORT_ID', 'DIV5AIRPORT_SEQ_ID',\n",
      "       'DIV5WHEELS_ON', 'DIV5TOTAL_G_TIME', 'DIV5LONGEST_G_TIME',\n",
      "       'DIV5WHEELS_OFF', 'DIV5TAIL_NUM', 'UNNAMED: 109'],\n",
      "      dtype='object', length=110)\n",
      "Index(['YEAR', 'QUARTER', 'MONTH', 'DAY_OF_MONTH', 'DAY_OF_WEEK',\n",
      "       'FLIGHT_DATE', 'REPORTING_AIRLINE', 'DOT_ID_REPORTING_AIRLINE',\n",
      "       'IATA_CODE_REPORTING_AIRLINE', 'TAIL_NUMBER',\n",
      "       ...\n",
      "       'DIV4TAIL_NUM', 'DIV5AIRPORT', 'DIV5AIRPORT_ID', 'DIV5AIRPORT_SEQ_ID',\n",
      "       'DIV5WHEELS_ON', 'DIV5TOTAL_G_TIME', 'DIV5LONGEST_G_TIME',\n",
      "       'DIV5WHEELS_OFF', 'DIV5TAIL_NUM', 'UNNAMED: 109'],\n",
      "      dtype='object', length=110)\n",
      "Index(['YEAR', 'QUARTER', 'MONTH', 'DAY_OF_MONTH', 'DAY_OF_WEEK',\n",
      "       'FLIGHT_DATE', 'REPORTING_AIRLINE', 'DOT_ID_REPORTING_AIRLINE',\n",
      "       'IATA_CODE_REPORTING_AIRLINE', 'TAIL_NUMBER',\n",
      "       ...\n",
      "       'DIV4TAIL_NUM', 'DIV5AIRPORT', 'DIV5AIRPORT_ID', 'DIV5AIRPORT_SEQ_ID',\n",
      "       'DIV5WHEELS_ON', 'DIV5TOTAL_G_TIME', 'DIV5LONGEST_G_TIME',\n",
      "       'DIV5WHEELS_OFF', 'DIV5TAIL_NUM', 'UNNAMED: 109'],\n",
      "      dtype='object', length=110)\n",
      "Index(['YEAR', 'QUARTER', 'MONTH', 'DAY_OF_MONTH', 'DAY_OF_WEEK',\n",
      "       'FLIGHT_DATE', 'REPORTING_AIRLINE', 'DOT_ID_REPORTING_AIRLINE',\n",
      "       'IATA_CODE_REPORTING_AIRLINE', 'TAIL_NUMBER',\n",
      "       ...\n",
      "       'DIV4TAIL_NUM', 'DIV5AIRPORT', 'DIV5AIRPORT_ID', 'DIV5AIRPORT_SEQ_ID',\n",
      "       'DIV5WHEELS_ON', 'DIV5TOTAL_G_TIME', 'DIV5LONGEST_G_TIME',\n",
      "       'DIV5WHEELS_OFF', 'DIV5TAIL_NUM', 'UNNAMED: 109'],\n",
      "      dtype='object', length=110)\n",
      "Index(['YEAR', 'QUARTER', 'MONTH', 'DAY_OF_MONTH', 'DAY_OF_WEEK',\n",
      "       'FLIGHT_DATE', 'REPORTING_AIRLINE', 'DOT_ID_REPORTING_AIRLINE',\n",
      "       'IATA_CODE_REPORTING_AIRLINE', 'TAIL_NUMBER',\n",
      "       ...\n",
      "       'DIV4TAIL_NUM', 'DIV5AIRPORT', 'DIV5AIRPORT_ID', 'DIV5AIRPORT_SEQ_ID',\n",
      "       'DIV5WHEELS_ON', 'DIV5TOTAL_G_TIME', 'DIV5LONGEST_G_TIME',\n",
      "       'DIV5WHEELS_OFF', 'DIV5TAIL_NUM', 'UNNAMED: 109'],\n",
      "      dtype='object', length=110)\n",
      "Index(['YEAR', 'QUARTER', 'MONTH', 'DAY_OF_MONTH', 'DAY_OF_WEEK',\n",
      "       'FLIGHT_DATE', 'REPORTING_AIRLINE', 'DOT_ID_REPORTING_AIRLINE',\n",
      "       'IATA_CODE_REPORTING_AIRLINE', 'TAIL_NUMBER',\n",
      "       ...\n",
      "       'DIV4TAIL_NUM', 'DIV5AIRPORT', 'DIV5AIRPORT_ID', 'DIV5AIRPORT_SEQ_ID',\n",
      "       'DIV5WHEELS_ON', 'DIV5TOTAL_G_TIME', 'DIV5LONGEST_G_TIME',\n",
      "       'DIV5WHEELS_OFF', 'DIV5TAIL_NUM', 'UNNAMED: 109'],\n",
      "      dtype='object', length=110)\n",
      "Index(['YEAR', 'QUARTER', 'MONTH', 'DAY_OF_MONTH', 'DAY_OF_WEEK',\n",
      "       'FLIGHT_DATE', 'REPORTING_AIRLINE', 'DOT_ID_REPORTING_AIRLINE',\n",
      "       'IATA_CODE_REPORTING_AIRLINE', 'TAIL_NUMBER',\n",
      "       ...\n",
      "       'DIV4TAIL_NUM', 'DIV5AIRPORT', 'DIV5AIRPORT_ID', 'DIV5AIRPORT_SEQ_ID',\n",
      "       'DIV5WHEELS_ON', 'DIV5TOTAL_G_TIME', 'DIV5LONGEST_G_TIME',\n",
      "       'DIV5WHEELS_OFF', 'DIV5TAIL_NUM', 'UNNAMED: 109'],\n",
      "      dtype='object', length=110)\n",
      "Index(['YEAR', 'QUARTER', 'MONTH', 'DAY_OF_MONTH', 'DAY_OF_WEEK',\n",
      "       'FLIGHT_DATE', 'REPORTING_AIRLINE', 'DOT_ID_REPORTING_AIRLINE',\n",
      "       'IATA_CODE_REPORTING_AIRLINE', 'TAIL_NUMBER',\n",
      "       ...\n",
      "       'DIV4TAIL_NUM', 'DIV5AIRPORT', 'DIV5AIRPORT_ID', 'DIV5AIRPORT_SEQ_ID',\n",
      "       'DIV5WHEELS_ON', 'DIV5TOTAL_G_TIME', 'DIV5LONGEST_G_TIME',\n",
      "       'DIV5WHEELS_OFF', 'DIV5TAIL_NUM', 'UNNAMED: 109'],\n",
      "      dtype='object', length=110)\n",
      "Index(['YEAR', 'QUARTER', 'MONTH', 'DAY_OF_MONTH', 'DAY_OF_WEEK',\n",
      "       'FLIGHT_DATE', 'REPORTING_AIRLINE', 'DOT_ID_REPORTING_AIRLINE',\n",
      "       'IATA_CODE_REPORTING_AIRLINE', 'TAIL_NUMBER',\n",
      "       ...\n",
      "       'DIV4TAIL_NUM', 'DIV5AIRPORT', 'DIV5AIRPORT_ID', 'DIV5AIRPORT_SEQ_ID',\n",
      "       'DIV5WHEELS_ON', 'DIV5TOTAL_G_TIME', 'DIV5LONGEST_G_TIME',\n",
      "       'DIV5WHEELS_OFF', 'DIV5TAIL_NUM', 'UNNAMED: 109'],\n",
      "      dtype='object', length=110)\n"
     ]
    },
    {
     "name": "stderr",
     "output_type": "stream",
     "text": [
      "/home/erez/shared_venv_3.7/lib/python3.7/site-packages/IPython/core/interactiveshell.py:3057: DtypeWarning: Columns (48,76,77,84) have mixed types. Specify dtype option on import or set low_memory=False.\n",
      "  interactivity=interactivity, compiler=compiler, result=result)\n"
     ]
    },
    {
     "name": "stdout",
     "output_type": "stream",
     "text": [
      "Index(['YEAR', 'QUARTER', 'MONTH', 'DAY_OF_MONTH', 'DAY_OF_WEEK',\n",
      "       'FLIGHT_DATE', 'REPORTING_AIRLINE', 'DOT_ID_REPORTING_AIRLINE',\n",
      "       'IATA_CODE_REPORTING_AIRLINE', 'TAIL_NUMBER',\n",
      "       ...\n",
      "       'DIV4TAIL_NUM', 'DIV5AIRPORT', 'DIV5AIRPORT_ID', 'DIV5AIRPORT_SEQ_ID',\n",
      "       'DIV5WHEELS_ON', 'DIV5TOTAL_G_TIME', 'DIV5LONGEST_G_TIME',\n",
      "       'DIV5WHEELS_OFF', 'DIV5TAIL_NUM', 'UNNAMED: 109'],\n",
      "      dtype='object', length=110)\n"
     ]
    },
    {
     "name": "stderr",
     "output_type": "stream",
     "text": [
      "/home/erez/shared_venv_3.7/lib/python3.7/site-packages/IPython/core/interactiveshell.py:3057: DtypeWarning: Columns (76,77,84,85) have mixed types. Specify dtype option on import or set low_memory=False.\n",
      "  interactivity=interactivity, compiler=compiler, result=result)\n"
     ]
    },
    {
     "name": "stdout",
     "output_type": "stream",
     "text": [
      "Index(['YEAR', 'QUARTER', 'MONTH', 'DAY_OF_MONTH', 'DAY_OF_WEEK',\n",
      "       'FLIGHT_DATE', 'REPORTING_AIRLINE', 'DOT_ID_REPORTING_AIRLINE',\n",
      "       'IATA_CODE_REPORTING_AIRLINE', 'TAIL_NUMBER',\n",
      "       ...\n",
      "       'DIV4TAIL_NUM', 'DIV5AIRPORT', 'DIV5AIRPORT_ID', 'DIV5AIRPORT_SEQ_ID',\n",
      "       'DIV5WHEELS_ON', 'DIV5TOTAL_G_TIME', 'DIV5LONGEST_G_TIME',\n",
      "       'DIV5WHEELS_OFF', 'DIV5TAIL_NUM', 'UNNAMED: 109'],\n",
      "      dtype='object', length=110)\n"
     ]
    },
    {
     "name": "stderr",
     "output_type": "stream",
     "text": [
      "/home/erez/shared_venv_3.7/lib/python3.7/site-packages/IPython/core/interactiveshell.py:3057: DtypeWarning: Columns (77) have mixed types. Specify dtype option on import or set low_memory=False.\n",
      "  interactivity=interactivity, compiler=compiler, result=result)\n"
     ]
    },
    {
     "name": "stdout",
     "output_type": "stream",
     "text": [
      "Index(['YEAR', 'QUARTER', 'MONTH', 'DAY_OF_MONTH', 'DAY_OF_WEEK',\n",
      "       'FLIGHT_DATE', 'REPORTING_AIRLINE', 'DOT_ID_REPORTING_AIRLINE',\n",
      "       'IATA_CODE_REPORTING_AIRLINE', 'TAIL_NUMBER',\n",
      "       ...\n",
      "       'DIV4TAIL_NUM', 'DIV5AIRPORT', 'DIV5AIRPORT_ID', 'DIV5AIRPORT_SEQ_ID',\n",
      "       'DIV5WHEELS_ON', 'DIV5TOTAL_G_TIME', 'DIV5LONGEST_G_TIME',\n",
      "       'DIV5WHEELS_OFF', 'DIV5TAIL_NUM', 'UNNAMED: 109'],\n",
      "      dtype='object', length=110)\n",
      "Index(['YEAR', 'QUARTER', 'MONTH', 'DAY_OF_MONTH', 'DAY_OF_WEEK',\n",
      "       'FLIGHT_DATE', 'REPORTING_AIRLINE', 'DOT_ID_REPORTING_AIRLINE',\n",
      "       'IATA_CODE_REPORTING_AIRLINE', 'TAIL_NUMBER',\n",
      "       ...\n",
      "       'DIV4TAIL_NUM', 'DIV5AIRPORT', 'DIV5AIRPORT_ID', 'DIV5AIRPORT_SEQ_ID',\n",
      "       'DIV5WHEELS_ON', 'DIV5TOTAL_G_TIME', 'DIV5LONGEST_G_TIME',\n",
      "       'DIV5WHEELS_OFF', 'DIV5TAIL_NUM', 'UNNAMED: 109'],\n",
      "      dtype='object', length=110)\n",
      "Index(['YEAR', 'QUARTER', 'MONTH', 'DAY_OF_MONTH', 'DAY_OF_WEEK',\n",
      "       'FLIGHT_DATE', 'REPORTING_AIRLINE', 'DOT_ID_REPORTING_AIRLINE',\n",
      "       'IATA_CODE_REPORTING_AIRLINE', 'TAIL_NUMBER',\n",
      "       ...\n",
      "       'DIV4TAIL_NUM', 'DIV5AIRPORT', 'DIV5AIRPORT_ID', 'DIV5AIRPORT_SEQ_ID',\n",
      "       'DIV5WHEELS_ON', 'DIV5TOTAL_G_TIME', 'DIV5LONGEST_G_TIME',\n",
      "       'DIV5WHEELS_OFF', 'DIV5TAIL_NUM', 'UNNAMED: 109'],\n",
      "      dtype='object', length=110)\n",
      "Index(['YEAR', 'QUARTER', 'MONTH', 'DAY_OF_MONTH', 'DAY_OF_WEEK',\n",
      "       'FLIGHT_DATE', 'REPORTING_AIRLINE', 'DOT_ID_REPORTING_AIRLINE',\n",
      "       'IATA_CODE_REPORTING_AIRLINE', 'TAIL_NUMBER',\n",
      "       ...\n",
      "       'DIV4TAIL_NUM', 'DIV5AIRPORT', 'DIV5AIRPORT_ID', 'DIV5AIRPORT_SEQ_ID',\n",
      "       'DIV5WHEELS_ON', 'DIV5TOTAL_G_TIME', 'DIV5LONGEST_G_TIME',\n",
      "       'DIV5WHEELS_OFF', 'DIV5TAIL_NUM', 'UNNAMED: 109'],\n",
      "      dtype='object', length=110)\n"
     ]
    },
    {
     "name": "stderr",
     "output_type": "stream",
     "text": [
      "/home/erez/shared_venv_3.7/lib/python3.7/site-packages/IPython/core/interactiveshell.py:3057: DtypeWarning: Columns (48,77,84,85) have mixed types. Specify dtype option on import or set low_memory=False.\n",
      "  interactivity=interactivity, compiler=compiler, result=result)\n"
     ]
    },
    {
     "name": "stdout",
     "output_type": "stream",
     "text": [
      "Index(['YEAR', 'QUARTER', 'MONTH', 'DAY_OF_MONTH', 'DAY_OF_WEEK',\n",
      "       'FLIGHT_DATE', 'REPORTING_AIRLINE', 'DOT_ID_REPORTING_AIRLINE',\n",
      "       'IATA_CODE_REPORTING_AIRLINE', 'TAIL_NUMBER',\n",
      "       ...\n",
      "       'DIV4TAIL_NUM', 'DIV5AIRPORT', 'DIV5AIRPORT_ID', 'DIV5AIRPORT_SEQ_ID',\n",
      "       'DIV5WHEELS_ON', 'DIV5TOTAL_G_TIME', 'DIV5LONGEST_G_TIME',\n",
      "       'DIV5WHEELS_OFF', 'DIV5TAIL_NUM', 'UNNAMED: 109'],\n",
      "      dtype='object', length=110)\n",
      "Index(['YEAR', 'QUARTER', 'MONTH', 'DAY_OF_MONTH', 'DAY_OF_WEEK',\n",
      "       'FLIGHT_DATE', 'REPORTING_AIRLINE', 'DOT_ID_REPORTING_AIRLINE',\n",
      "       'IATA_CODE_REPORTING_AIRLINE', 'TAIL_NUMBER',\n",
      "       ...\n",
      "       'DIV4TAIL_NUM', 'DIV5AIRPORT', 'DIV5AIRPORT_ID', 'DIV5AIRPORT_SEQ_ID',\n",
      "       'DIV5WHEELS_ON', 'DIV5TOTAL_G_TIME', 'DIV5LONGEST_G_TIME',\n",
      "       'DIV5WHEELS_OFF', 'DIV5TAIL_NUM', 'UNNAMED: 109'],\n",
      "      dtype='object', length=110)\n",
      "Index(['YEAR', 'QUARTER', 'MONTH', 'DAY_OF_MONTH', 'DAY_OF_WEEK',\n",
      "       'FLIGHT_DATE', 'REPORTING_AIRLINE', 'DOT_ID_REPORTING_AIRLINE',\n",
      "       'IATA_CODE_REPORTING_AIRLINE', 'TAIL_NUMBER',\n",
      "       ...\n",
      "       'DIV4TAIL_NUM', 'DIV5AIRPORT', 'DIV5AIRPORT_ID', 'DIV5AIRPORT_SEQ_ID',\n",
      "       'DIV5WHEELS_ON', 'DIV5TOTAL_G_TIME', 'DIV5LONGEST_G_TIME',\n",
      "       'DIV5WHEELS_OFF', 'DIV5TAIL_NUM', 'UNNAMED: 109'],\n",
      "      dtype='object', length=110)\n",
      "Index(['YEAR', 'QUARTER', 'MONTH', 'DAY_OF_MONTH', 'DAY_OF_WEEK',\n",
      "       'FLIGHT_DATE', 'REPORTING_AIRLINE', 'DOT_ID_REPORTING_AIRLINE',\n",
      "       'IATA_CODE_REPORTING_AIRLINE', 'TAIL_NUMBER',\n",
      "       ...\n",
      "       'DIV4TAIL_NUM', 'DIV5AIRPORT', 'DIV5AIRPORT_ID', 'DIV5AIRPORT_SEQ_ID',\n",
      "       'DIV5WHEELS_ON', 'DIV5TOTAL_G_TIME', 'DIV5LONGEST_G_TIME',\n",
      "       'DIV5WHEELS_OFF', 'DIV5TAIL_NUM', 'UNNAMED: 109'],\n",
      "      dtype='object', length=110)\n",
      "Index(['YEAR', 'QUARTER', 'MONTH', 'DAY_OF_MONTH', 'DAY_OF_WEEK',\n",
      "       'FLIGHT_DATE', 'REPORTING_AIRLINE', 'DOT_ID_REPORTING_AIRLINE',\n",
      "       'IATA_CODE_REPORTING_AIRLINE', 'TAIL_NUMBER',\n",
      "       ...\n",
      "       'DIV4TAIL_NUM', 'DIV5AIRPORT', 'DIV5AIRPORT_ID', 'DIV5AIRPORT_SEQ_ID',\n",
      "       'DIV5WHEELS_ON', 'DIV5TOTAL_G_TIME', 'DIV5LONGEST_G_TIME',\n",
      "       'DIV5WHEELS_OFF', 'DIV5TAIL_NUM', 'UNNAMED: 109'],\n",
      "      dtype='object', length=110)\n",
      "Index(['YEAR', 'QUARTER', 'MONTH', 'DAY_OF_MONTH', 'DAY_OF_WEEK',\n",
      "       'FLIGHT_DATE', 'REPORTING_AIRLINE', 'DOT_ID_REPORTING_AIRLINE',\n",
      "       'IATA_CODE_REPORTING_AIRLINE', 'TAIL_NUMBER',\n",
      "       ...\n",
      "       'DIV4TAIL_NUM', 'DIV5AIRPORT', 'DIV5AIRPORT_ID', 'DIV5AIRPORT_SEQ_ID',\n",
      "       'DIV5WHEELS_ON', 'DIV5TOTAL_G_TIME', 'DIV5LONGEST_G_TIME',\n",
      "       'DIV5WHEELS_OFF', 'DIV5TAIL_NUM', 'UNNAMED: 109'],\n",
      "      dtype='object', length=110)\n",
      "Index(['YEAR', 'QUARTER', 'MONTH', 'DAY_OF_MONTH', 'DAY_OF_WEEK',\n",
      "       'FLIGHT_DATE', 'REPORTING_AIRLINE', 'DOT_ID_REPORTING_AIRLINE',\n",
      "       'IATA_CODE_REPORTING_AIRLINE', 'TAIL_NUMBER',\n",
      "       ...\n",
      "       'DIV4TAIL_NUM', 'DIV5AIRPORT', 'DIV5AIRPORT_ID', 'DIV5AIRPORT_SEQ_ID',\n",
      "       'DIV5WHEELS_ON', 'DIV5TOTAL_G_TIME', 'DIV5LONGEST_G_TIME',\n",
      "       'DIV5WHEELS_OFF', 'DIV5TAIL_NUM', 'UNNAMED: 109'],\n",
      "      dtype='object', length=110)\n",
      "Index(['YEAR', 'QUARTER', 'MONTH', 'DAY_OF_MONTH', 'DAY_OF_WEEK',\n",
      "       'FLIGHT_DATE', 'REPORTING_AIRLINE', 'DOT_ID_REPORTING_AIRLINE',\n",
      "       'IATA_CODE_REPORTING_AIRLINE', 'TAIL_NUMBER',\n",
      "       ...\n",
      "       'DIV4TAIL_NUM', 'DIV5AIRPORT', 'DIV5AIRPORT_ID', 'DIV5AIRPORT_SEQ_ID',\n",
      "       'DIV5WHEELS_ON', 'DIV5TOTAL_G_TIME', 'DIV5LONGEST_G_TIME',\n",
      "       'DIV5WHEELS_OFF', 'DIV5TAIL_NUM', 'UNNAMED: 109'],\n",
      "      dtype='object', length=110)\n",
      "Index(['YEAR', 'QUARTER', 'MONTH', 'DAY_OF_MONTH', 'DAY_OF_WEEK',\n",
      "       'FLIGHT_DATE', 'REPORTING_AIRLINE', 'DOT_ID_REPORTING_AIRLINE',\n",
      "       'IATA_CODE_REPORTING_AIRLINE', 'TAIL_NUMBER',\n",
      "       ...\n",
      "       'DIV4TAIL_NUM', 'DIV5AIRPORT', 'DIV5AIRPORT_ID', 'DIV5AIRPORT_SEQ_ID',\n",
      "       'DIV5WHEELS_ON', 'DIV5TOTAL_G_TIME', 'DIV5LONGEST_G_TIME',\n",
      "       'DIV5WHEELS_OFF', 'DIV5TAIL_NUM', 'UNNAMED: 109'],\n",
      "      dtype='object', length=110)\n",
      "Index(['YEAR', 'QUARTER', 'MONTH', 'DAY_OF_MONTH', 'DAY_OF_WEEK',\n",
      "       'FLIGHT_DATE', 'REPORTING_AIRLINE', 'DOT_ID_REPORTING_AIRLINE',\n",
      "       'IATA_CODE_REPORTING_AIRLINE', 'TAIL_NUMBER',\n",
      "       ...\n",
      "       'DIV4TAIL_NUM', 'DIV5AIRPORT', 'DIV5AIRPORT_ID', 'DIV5AIRPORT_SEQ_ID',\n",
      "       'DIV5WHEELS_ON', 'DIV5TOTAL_G_TIME', 'DIV5LONGEST_G_TIME',\n",
      "       'DIV5WHEELS_OFF', 'DIV5TAIL_NUM', 'UNNAMED: 109'],\n",
      "      dtype='object', length=110)\n",
      "Index(['YEAR', 'QUARTER', 'MONTH', 'DAY_OF_MONTH', 'DAY_OF_WEEK',\n",
      "       'FLIGHT_DATE', 'REPORTING_AIRLINE', 'DOT_ID_REPORTING_AIRLINE',\n",
      "       'IATA_CODE_REPORTING_AIRLINE', 'TAIL_NUMBER',\n",
      "       ...\n",
      "       'DIV4TAIL_NUM', 'DIV5AIRPORT', 'DIV5AIRPORT_ID', 'DIV5AIRPORT_SEQ_ID',\n",
      "       'DIV5WHEELS_ON', 'DIV5TOTAL_G_TIME', 'DIV5LONGEST_G_TIME',\n",
      "       'DIV5WHEELS_OFF', 'DIV5TAIL_NUM', 'UNNAMED: 109'],\n",
      "      dtype='object', length=110)\n",
      "Index(['YEAR', 'QUARTER', 'MONTH', 'DAY_OF_MONTH', 'DAY_OF_WEEK',\n",
      "       'FLIGHT_DATE', 'REPORTING_AIRLINE', 'DOT_ID_REPORTING_AIRLINE',\n",
      "       'IATA_CODE_REPORTING_AIRLINE', 'TAIL_NUMBER',\n",
      "       ...\n",
      "       'DIV4TAIL_NUM', 'DIV5AIRPORT', 'DIV5AIRPORT_ID', 'DIV5AIRPORT_SEQ_ID',\n",
      "       'DIV5WHEELS_ON', 'DIV5TOTAL_G_TIME', 'DIV5LONGEST_G_TIME',\n",
      "       'DIV5WHEELS_OFF', 'DIV5TAIL_NUM', 'UNNAMED: 109'],\n",
      "      dtype='object', length=110)\n"
     ]
    },
    {
     "name": "stderr",
     "output_type": "stream",
     "text": [
      "/home/erez/shared_venv_3.7/lib/python3.7/site-packages/IPython/core/interactiveshell.py:3057: DtypeWarning: Columns (48,77) have mixed types. Specify dtype option on import or set low_memory=False.\n",
      "  interactivity=interactivity, compiler=compiler, result=result)\n"
     ]
    },
    {
     "name": "stdout",
     "output_type": "stream",
     "text": [
      "Index(['YEAR', 'QUARTER', 'MONTH', 'DAY_OF_MONTH', 'DAY_OF_WEEK',\n",
      "       'FLIGHT_DATE', 'REPORTING_AIRLINE', 'DOT_ID_REPORTING_AIRLINE',\n",
      "       'IATA_CODE_REPORTING_AIRLINE', 'TAIL_NUMBER',\n",
      "       ...\n",
      "       'DIV4TAIL_NUM', 'DIV5AIRPORT', 'DIV5AIRPORT_ID', 'DIV5AIRPORT_SEQ_ID',\n",
      "       'DIV5WHEELS_ON', 'DIV5TOTAL_G_TIME', 'DIV5LONGEST_G_TIME',\n",
      "       'DIV5WHEELS_OFF', 'DIV5TAIL_NUM', 'UNNAMED: 109'],\n",
      "      dtype='object', length=110)\n",
      "Index(['YEAR', 'QUARTER', 'MONTH', 'DAY_OF_MONTH', 'DAY_OF_WEEK',\n",
      "       'FLIGHT_DATE', 'REPORTING_AIRLINE', 'DOT_ID_REPORTING_AIRLINE',\n",
      "       'IATA_CODE_REPORTING_AIRLINE', 'TAIL_NUMBER',\n",
      "       ...\n",
      "       'DIV4TAIL_NUM', 'DIV5AIRPORT', 'DIV5AIRPORT_ID', 'DIV5AIRPORT_SEQ_ID',\n",
      "       'DIV5WHEELS_ON', 'DIV5TOTAL_G_TIME', 'DIV5LONGEST_G_TIME',\n",
      "       'DIV5WHEELS_OFF', 'DIV5TAIL_NUM', 'UNNAMED: 109'],\n",
      "      dtype='object', length=110)\n",
      "Index(['YEAR', 'QUARTER', 'MONTH', 'DAY_OF_MONTH', 'DAY_OF_WEEK',\n",
      "       'FLIGHT_DATE', 'REPORTING_AIRLINE', 'DOT_ID_REPORTING_AIRLINE',\n",
      "       'IATA_CODE_REPORTING_AIRLINE', 'TAIL_NUMBER',\n",
      "       ...\n",
      "       'DIV4TAIL_NUM', 'DIV5AIRPORT', 'DIV5AIRPORT_ID', 'DIV5AIRPORT_SEQ_ID',\n",
      "       'DIV5WHEELS_ON', 'DIV5TOTAL_G_TIME', 'DIV5LONGEST_G_TIME',\n",
      "       'DIV5WHEELS_OFF', 'DIV5TAIL_NUM', 'UNNAMED: 109'],\n",
      "      dtype='object', length=110)\n",
      "Index(['YEAR', 'QUARTER', 'MONTH', 'DAY_OF_MONTH', 'DAY_OF_WEEK',\n",
      "       'FLIGHT_DATE', 'REPORTING_AIRLINE', 'DOT_ID_REPORTING_AIRLINE',\n",
      "       'IATA_CODE_REPORTING_AIRLINE', 'TAIL_NUMBER',\n",
      "       ...\n",
      "       'DIV4TAIL_NUM', 'DIV5AIRPORT', 'DIV5AIRPORT_ID', 'DIV5AIRPORT_SEQ_ID',\n",
      "       'DIV5WHEELS_ON', 'DIV5TOTAL_G_TIME', 'DIV5LONGEST_G_TIME',\n",
      "       'DIV5WHEELS_OFF', 'DIV5TAIL_NUM', 'UNNAMED: 109'],\n",
      "      dtype='object', length=110)\n",
      "Index(['YEAR', 'QUARTER', 'MONTH', 'DAY_OF_MONTH', 'DAY_OF_WEEK',\n",
      "       'FLIGHT_DATE', 'REPORTING_AIRLINE', 'DOT_ID_REPORTING_AIRLINE',\n",
      "       'IATA_CODE_REPORTING_AIRLINE', 'TAIL_NUMBER',\n",
      "       ...\n",
      "       'DIV4TAIL_NUM', 'DIV5AIRPORT', 'DIV5AIRPORT_ID', 'DIV5AIRPORT_SEQ_ID',\n",
      "       'DIV5WHEELS_ON', 'DIV5TOTAL_G_TIME', 'DIV5LONGEST_G_TIME',\n",
      "       'DIV5WHEELS_OFF', 'DIV5TAIL_NUM', 'UNNAMED: 109'],\n",
      "      dtype='object', length=110)\n",
      "Index(['YEAR', 'QUARTER', 'MONTH', 'DAY_OF_MONTH', 'DAY_OF_WEEK',\n",
      "       'FLIGHT_DATE', 'REPORTING_AIRLINE', 'DOT_ID_REPORTING_AIRLINE',\n",
      "       'IATA_CODE_REPORTING_AIRLINE', 'TAIL_NUMBER',\n",
      "       ...\n",
      "       'DIV4TAIL_NUM', 'DIV5AIRPORT', 'DIV5AIRPORT_ID', 'DIV5AIRPORT_SEQ_ID',\n",
      "       'DIV5WHEELS_ON', 'DIV5TOTAL_G_TIME', 'DIV5LONGEST_G_TIME',\n",
      "       'DIV5WHEELS_OFF', 'DIV5TAIL_NUM', 'UNNAMED: 109'],\n",
      "      dtype='object', length=110)\n",
      "Index(['YEAR', 'QUARTER', 'MONTH', 'DAY_OF_MONTH', 'DAY_OF_WEEK',\n",
      "       'FLIGHT_DATE', 'REPORTING_AIRLINE', 'DOT_ID_REPORTING_AIRLINE',\n",
      "       'IATA_CODE_REPORTING_AIRLINE', 'TAIL_NUMBER',\n",
      "       ...\n",
      "       'DIV4TAIL_NUM', 'DIV5AIRPORT', 'DIV5AIRPORT_ID', 'DIV5AIRPORT_SEQ_ID',\n",
      "       'DIV5WHEELS_ON', 'DIV5TOTAL_G_TIME', 'DIV5LONGEST_G_TIME',\n",
      "       'DIV5WHEELS_OFF', 'DIV5TAIL_NUM', 'UNNAMED: 109'],\n",
      "      dtype='object', length=110)\n",
      "Index(['YEAR', 'QUARTER', 'MONTH', 'DAY_OF_MONTH', 'DAY_OF_WEEK',\n",
      "       'FLIGHT_DATE', 'REPORTING_AIRLINE', 'DOT_ID_REPORTING_AIRLINE',\n",
      "       'IATA_CODE_REPORTING_AIRLINE', 'TAIL_NUMBER',\n",
      "       ...\n",
      "       'DIV4TAIL_NUM', 'DIV5AIRPORT', 'DIV5AIRPORT_ID', 'DIV5AIRPORT_SEQ_ID',\n",
      "       'DIV5WHEELS_ON', 'DIV5TOTAL_G_TIME', 'DIV5LONGEST_G_TIME',\n",
      "       'DIV5WHEELS_OFF', 'DIV5TAIL_NUM', 'UNNAMED: 109'],\n",
      "      dtype='object', length=110)\n",
      "Index(['YEAR', 'QUARTER', 'MONTH', 'DAY_OF_MONTH', 'DAY_OF_WEEK',\n",
      "       'FLIGHT_DATE', 'REPORTING_AIRLINE', 'DOT_ID_REPORTING_AIRLINE',\n",
      "       'IATA_CODE_REPORTING_AIRLINE', 'TAIL_NUMBER',\n",
      "       ...\n",
      "       'DIV4TAIL_NUM', 'DIV5AIRPORT', 'DIV5AIRPORT_ID', 'DIV5AIRPORT_SEQ_ID',\n",
      "       'DIV5WHEELS_ON', 'DIV5TOTAL_G_TIME', 'DIV5LONGEST_G_TIME',\n",
      "       'DIV5WHEELS_OFF', 'DIV5TAIL_NUM', 'UNNAMED: 109'],\n",
      "      dtype='object', length=110)\n",
      "Index(['YEAR', 'QUARTER', 'MONTH', 'DAY_OF_MONTH', 'DAY_OF_WEEK',\n",
      "       'FLIGHT_DATE', 'REPORTING_AIRLINE', 'DOT_ID_REPORTING_AIRLINE',\n",
      "       'IATA_CODE_REPORTING_AIRLINE', 'TAIL_NUMBER',\n",
      "       ...\n",
      "       'DIV4TAIL_NUM', 'DIV5AIRPORT', 'DIV5AIRPORT_ID', 'DIV5AIRPORT_SEQ_ID',\n",
      "       'DIV5WHEELS_ON', 'DIV5TOTAL_G_TIME', 'DIV5LONGEST_G_TIME',\n",
      "       'DIV5WHEELS_OFF', 'DIV5TAIL_NUM', 'UNNAMED: 109'],\n",
      "      dtype='object', length=110)\n",
      "Index(['YEAR', 'QUARTER', 'MONTH', 'DAY_OF_MONTH', 'DAY_OF_WEEK',\n",
      "       'FLIGHT_DATE', 'REPORTING_AIRLINE', 'DOT_ID_REPORTING_AIRLINE',\n",
      "       'IATA_CODE_REPORTING_AIRLINE', 'TAIL_NUMBER',\n",
      "       ...\n",
      "       'DIV4TAIL_NUM', 'DIV5AIRPORT', 'DIV5AIRPORT_ID', 'DIV5AIRPORT_SEQ_ID',\n",
      "       'DIV5WHEELS_ON', 'DIV5TOTAL_G_TIME', 'DIV5LONGEST_G_TIME',\n",
      "       'DIV5WHEELS_OFF', 'DIV5TAIL_NUM', 'UNNAMED: 109'],\n",
      "      dtype='object', length=110)\n",
      "Index(['YEAR', 'QUARTER', 'MONTH', 'DAY_OF_MONTH', 'DAY_OF_WEEK',\n",
      "       'FLIGHT_DATE', 'REPORTING_AIRLINE', 'DOT_ID_REPORTING_AIRLINE',\n",
      "       'IATA_CODE_REPORTING_AIRLINE', 'TAIL_NUMBER',\n",
      "       ...\n",
      "       'DIV4TAIL_NUM', 'DIV5AIRPORT', 'DIV5AIRPORT_ID', 'DIV5AIRPORT_SEQ_ID',\n",
      "       'DIV5WHEELS_ON', 'DIV5TOTAL_G_TIME', 'DIV5LONGEST_G_TIME',\n",
      "       'DIV5WHEELS_OFF', 'DIV5TAIL_NUM', 'UNNAMED: 109'],\n",
      "      dtype='object', length=110)\n",
      "Index(['YEAR', 'QUARTER', 'MONTH', 'DAY_OF_MONTH', 'DAY_OF_WEEK',\n",
      "       'FLIGHT_DATE', 'REPORTING_AIRLINE', 'DOT_ID_REPORTING_AIRLINE',\n",
      "       'IATA_CODE_REPORTING_AIRLINE', 'TAIL_NUMBER',\n",
      "       ...\n",
      "       'DIV4TAIL_NUM', 'DIV5AIRPORT', 'DIV5AIRPORT_ID', 'DIV5AIRPORT_SEQ_ID',\n",
      "       'DIV5WHEELS_ON', 'DIV5TOTAL_G_TIME', 'DIV5LONGEST_G_TIME',\n",
      "       'DIV5WHEELS_OFF', 'DIV5TAIL_NUM', 'UNNAMED: 109'],\n",
      "      dtype='object', length=110)\n",
      "Index(['YEAR', 'QUARTER', 'MONTH', 'DAY_OF_MONTH', 'DAY_OF_WEEK',\n",
      "       'FLIGHT_DATE', 'REPORTING_AIRLINE', 'DOT_ID_REPORTING_AIRLINE',\n",
      "       'IATA_CODE_REPORTING_AIRLINE', 'TAIL_NUMBER',\n",
      "       ...\n",
      "       'DIV4TAIL_NUM', 'DIV5AIRPORT', 'DIV5AIRPORT_ID', 'DIV5AIRPORT_SEQ_ID',\n",
      "       'DIV5WHEELS_ON', 'DIV5TOTAL_G_TIME', 'DIV5LONGEST_G_TIME',\n",
      "       'DIV5WHEELS_OFF', 'DIV5TAIL_NUM', 'UNNAMED: 109'],\n",
      "      dtype='object', length=110)\n",
      "Index(['YEAR', 'QUARTER', 'MONTH', 'DAY_OF_MONTH', 'DAY_OF_WEEK',\n",
      "       'FLIGHT_DATE', 'REPORTING_AIRLINE', 'DOT_ID_REPORTING_AIRLINE',\n",
      "       'IATA_CODE_REPORTING_AIRLINE', 'TAIL_NUMBER',\n",
      "       ...\n",
      "       'DIV4TAIL_NUM', 'DIV5AIRPORT', 'DIV5AIRPORT_ID', 'DIV5AIRPORT_SEQ_ID',\n",
      "       'DIV5WHEELS_ON', 'DIV5TOTAL_G_TIME', 'DIV5LONGEST_G_TIME',\n",
      "       'DIV5WHEELS_OFF', 'DIV5TAIL_NUM', 'UNNAMED: 109'],\n",
      "      dtype='object', length=110)\n",
      "Index(['YEAR', 'QUARTER', 'MONTH', 'DAY_OF_MONTH', 'DAY_OF_WEEK',\n",
      "       'FLIGHT_DATE', 'REPORTING_AIRLINE', 'DOT_ID_REPORTING_AIRLINE',\n",
      "       'IATA_CODE_REPORTING_AIRLINE', 'TAIL_NUMBER',\n",
      "       ...\n",
      "       'DIV4TAIL_NUM', 'DIV5AIRPORT', 'DIV5AIRPORT_ID', 'DIV5AIRPORT_SEQ_ID',\n",
      "       'DIV5WHEELS_ON', 'DIV5TOTAL_G_TIME', 'DIV5LONGEST_G_TIME',\n",
      "       'DIV5WHEELS_OFF', 'DIV5TAIL_NUM', 'UNNAMED: 109'],\n",
      "      dtype='object', length=110)\n",
      "Index(['YEAR', 'QUARTER', 'MONTH', 'DAY_OF_MONTH', 'DAY_OF_WEEK',\n",
      "       'FLIGHT_DATE', 'REPORTING_AIRLINE', 'DOT_ID_REPORTING_AIRLINE',\n",
      "       'IATA_CODE_REPORTING_AIRLINE', 'TAIL_NUMBER',\n",
      "       ...\n",
      "       'DIV4TAIL_NUM', 'DIV5AIRPORT', 'DIV5AIRPORT_ID', 'DIV5AIRPORT_SEQ_ID',\n",
      "       'DIV5WHEELS_ON', 'DIV5TOTAL_G_TIME', 'DIV5LONGEST_G_TIME',\n",
      "       'DIV5WHEELS_OFF', 'DIV5TAIL_NUM', 'UNNAMED: 109'],\n",
      "      dtype='object', length=110)\n",
      "Index(['YEAR', 'QUARTER', 'MONTH', 'DAY_OF_MONTH', 'DAY_OF_WEEK',\n",
      "       'FLIGHT_DATE', 'REPORTING_AIRLINE', 'DOT_ID_REPORTING_AIRLINE',\n",
      "       'IATA_CODE_REPORTING_AIRLINE', 'TAIL_NUMBER',\n",
      "       ...\n",
      "       'DIV4TAIL_NUM', 'DIV5AIRPORT', 'DIV5AIRPORT_ID', 'DIV5AIRPORT_SEQ_ID',\n",
      "       'DIV5WHEELS_ON', 'DIV5TOTAL_G_TIME', 'DIV5LONGEST_G_TIME',\n",
      "       'DIV5WHEELS_OFF', 'DIV5TAIL_NUM', 'UNNAMED: 109'],\n",
      "      dtype='object', length=110)\n",
      "Index(['YEAR', 'QUARTER', 'MONTH', 'DAY_OF_MONTH', 'DAY_OF_WEEK',\n",
      "       'FLIGHT_DATE', 'REPORTING_AIRLINE', 'DOT_ID_REPORTING_AIRLINE',\n",
      "       'IATA_CODE_REPORTING_AIRLINE', 'TAIL_NUMBER',\n",
      "       ...\n",
      "       'DIV4TAIL_NUM', 'DIV5AIRPORT', 'DIV5AIRPORT_ID', 'DIV5AIRPORT_SEQ_ID',\n",
      "       'DIV5WHEELS_ON', 'DIV5TOTAL_G_TIME', 'DIV5LONGEST_G_TIME',\n",
      "       'DIV5WHEELS_OFF', 'DIV5TAIL_NUM', 'UNNAMED: 109'],\n",
      "      dtype='object', length=110)\n"
     ]
    },
    {
     "name": "stdout",
     "output_type": "stream",
     "text": [
      "Index(['YEAR', 'QUARTER', 'MONTH', 'DAY_OF_MONTH', 'DAY_OF_WEEK',\n",
      "       'FLIGHT_DATE', 'REPORTING_AIRLINE', 'DOT_ID_REPORTING_AIRLINE',\n",
      "       'IATA_CODE_REPORTING_AIRLINE', 'TAIL_NUMBER',\n",
      "       ...\n",
      "       'DIV4TAIL_NUM', 'DIV5AIRPORT', 'DIV5AIRPORT_ID', 'DIV5AIRPORT_SEQ_ID',\n",
      "       'DIV5WHEELS_ON', 'DIV5TOTAL_G_TIME', 'DIV5LONGEST_G_TIME',\n",
      "       'DIV5WHEELS_OFF', 'DIV5TAIL_NUM', 'UNNAMED: 109'],\n",
      "      dtype='object', length=110)\n"
     ]
    },
    {
     "name": "stderr",
     "output_type": "stream",
     "text": [
      "/home/erez/shared_venv_3.7/lib/python3.7/site-packages/IPython/core/interactiveshell.py:3057: DtypeWarning: Columns (48,69,76,77,84,85) have mixed types. Specify dtype option on import or set low_memory=False.\n",
      "  interactivity=interactivity, compiler=compiler, result=result)\n"
     ]
    },
    {
     "name": "stdout",
     "output_type": "stream",
     "text": [
      "Index(['YEAR', 'QUARTER', 'MONTH', 'DAY_OF_MONTH', 'DAY_OF_WEEK',\n",
      "       'FLIGHT_DATE', 'REPORTING_AIRLINE', 'DOT_ID_REPORTING_AIRLINE',\n",
      "       'IATA_CODE_REPORTING_AIRLINE', 'TAIL_NUMBER',\n",
      "       ...\n",
      "       'DIV4TAIL_NUM', 'DIV5AIRPORT', 'DIV5AIRPORT_ID', 'DIV5AIRPORT_SEQ_ID',\n",
      "       'DIV5WHEELS_ON', 'DIV5TOTAL_G_TIME', 'DIV5LONGEST_G_TIME',\n",
      "       'DIV5WHEELS_OFF', 'DIV5TAIL_NUM', 'UNNAMED: 109'],\n",
      "      dtype='object', length=110)\n",
      "Index(['YEAR', 'QUARTER', 'MONTH', 'DAY_OF_MONTH', 'DAY_OF_WEEK',\n",
      "       'FLIGHT_DATE', 'REPORTING_AIRLINE', 'DOT_ID_REPORTING_AIRLINE',\n",
      "       'IATA_CODE_REPORTING_AIRLINE', 'TAIL_NUMBER',\n",
      "       ...\n",
      "       'DIV4TAIL_NUM', 'DIV5AIRPORT', 'DIV5AIRPORT_ID', 'DIV5AIRPORT_SEQ_ID',\n",
      "       'DIV5WHEELS_ON', 'DIV5TOTAL_G_TIME', 'DIV5LONGEST_G_TIME',\n",
      "       'DIV5WHEELS_OFF', 'DIV5TAIL_NUM', 'UNNAMED: 109'],\n",
      "      dtype='object', length=110)\n",
      "Index(['YEAR', 'QUARTER', 'MONTH', 'DAY_OF_MONTH', 'DAY_OF_WEEK',\n",
      "       'FLIGHT_DATE', 'REPORTING_AIRLINE', 'DOT_ID_REPORTING_AIRLINE',\n",
      "       'IATA_CODE_REPORTING_AIRLINE', 'TAIL_NUMBER',\n",
      "       ...\n",
      "       'DIV4TAIL_NUM', 'DIV5AIRPORT', 'DIV5AIRPORT_ID', 'DIV5AIRPORT_SEQ_ID',\n",
      "       'DIV5WHEELS_ON', 'DIV5TOTAL_G_TIME', 'DIV5LONGEST_G_TIME',\n",
      "       'DIV5WHEELS_OFF', 'DIV5TAIL_NUM', 'UNNAMED: 109'],\n",
      "      dtype='object', length=110)\n",
      "Index(['YEAR', 'QUARTER', 'MONTH', 'DAY_OF_MONTH', 'DAY_OF_WEEK',\n",
      "       'FLIGHT_DATE', 'REPORTING_AIRLINE', 'DOT_ID_REPORTING_AIRLINE',\n",
      "       'IATA_CODE_REPORTING_AIRLINE', 'TAIL_NUMBER',\n",
      "       ...\n",
      "       'DIV4TAIL_NUM', 'DIV5AIRPORT', 'DIV5AIRPORT_ID', 'DIV5AIRPORT_SEQ_ID',\n",
      "       'DIV5WHEELS_ON', 'DIV5TOTAL_G_TIME', 'DIV5LONGEST_G_TIME',\n",
      "       'DIV5WHEELS_OFF', 'DIV5TAIL_NUM', 'UNNAMED: 109'],\n",
      "      dtype='object', length=110)\n",
      "Index(['YEAR', 'QUARTER', 'MONTH', 'DAY_OF_MONTH', 'DAY_OF_WEEK',\n",
      "       'FLIGHT_DATE', 'REPORTING_AIRLINE', 'DOT_ID_REPORTING_AIRLINE',\n",
      "       'IATA_CODE_REPORTING_AIRLINE', 'TAIL_NUMBER',\n",
      "       ...\n",
      "       'DIV4TAIL_NUM', 'DIV5AIRPORT', 'DIV5AIRPORT_ID', 'DIV5AIRPORT_SEQ_ID',\n",
      "       'DIV5WHEELS_ON', 'DIV5TOTAL_G_TIME', 'DIV5LONGEST_G_TIME',\n",
      "       'DIV5WHEELS_OFF', 'DIV5TAIL_NUM', 'UNNAMED: 109'],\n",
      "      dtype='object', length=110)\n"
     ]
    }
   ],
   "source": [
    "two_numbers_wildcard = '[0-9]'*2\n",
    "file_list = sorted(glob.glob(os.path.join(source_path, \"%s_%s.csv\" % ((two_numbers_wildcard, ) * 2))))\n",
    "\n",
    "merged_file_name = '5_year_sorted.csv'\n",
    "mode = 'w'\n",
    "for fname in file_list:\n",
    "    print('Processing file \"%s\"' % fname)\n",
    "    df = pd.read_csv(fname)\n",
    "    df.columns = map(replace_fucking_header_format, df.columns)\n",
    "    df = process_df(df)\n",
    "    with open(os.path.join(target_path, merged_file_name), mode=mode) as f:\n",
    "        df.to_csv(f, header= mode == 'w')\n",
    "    mode = 'a'\n",
    "    print('Finished.')\n",
    "    \n",
    "print('Done.')\n"
   ]
  },
  {
   "cell_type": "code",
   "execution_count": 19,
   "metadata": {},
   "outputs": [],
   "source": [
    "# source_path = '/home/dbeiski/PycharmProjects/flight_data/national_bydate/'\n",
    "target_path = '../Data/new_york/'"
   ]
  },
  {
   "cell_type": "code",
   "execution_count": 20,
   "metadata": {},
   "outputs": [],
   "source": [
    "df = pd.read_csv(os.path.join(target_path, mer))\n",
    "df_dep = df[df['ORIGIN'] == 'LGA']"
   ]
  },
  {
   "cell_type": "code",
   "execution_count": 21,
   "metadata": {},
   "outputs": [],
   "source": [
    "df_dep.to_csv(target_path + '5_year_lga_dep.csv')"
   ]
  }
 ],
 "metadata": {
  "hide_input": false,
  "kernelspec": {
   "display_name": "Python 3",
   "language": "python",
   "name": "python3"
  },
  "language_info": {
   "codemirror_mode": {
    "name": "ipython",
    "version": 3
   },
   "file_extension": ".py",
   "mimetype": "text/x-python",
   "name": "python",
   "nbconvert_exporter": "python",
   "pygments_lexer": "ipython3",
   "version": "3.7.4"
  },
  "toc": {
   "base_numbering": 1,
   "nav_menu": {},
   "number_sections": true,
   "sideBar": true,
   "skip_h1_title": false,
   "title_cell": "Table of Contents",
   "title_sidebar": "Contents",
   "toc_cell": false,
   "toc_position": {},
   "toc_section_display": true,
   "toc_window_display": false
  },
  "varInspector": {
   "cols": {
    "lenName": 16,
    "lenType": 16,
    "lenVar": 40
   },
   "kernels_config": {
    "python": {
     "delete_cmd_postfix": "",
     "delete_cmd_prefix": "del ",
     "library": "var_list.py",
     "varRefreshCmd": "print(var_dic_list())"
    },
    "r": {
     "delete_cmd_postfix": ") ",
     "delete_cmd_prefix": "rm(",
     "library": "var_list.r",
     "varRefreshCmd": "cat(var_dic_list()) "
    }
   },
   "types_to_exclude": [
    "module",
    "function",
    "builtin_function_or_method",
    "instance",
    "_Feature"
   ],
   "window_display": false
  }
 },
 "nbformat": 4,
 "nbformat_minor": 2
}
