{
 "cells": [
  {
   "cell_type": "code",
   "execution_count": 15,
   "metadata": {},
   "outputs": [],
   "source": [
    "import numpy as np\n",
    "import pandas as pd\n",
    "import os"
   ]
  },
  {
   "cell_type": "code",
   "execution_count": 16,
   "metadata": {},
   "outputs": [],
   "source": [
    "source_path = '/home/dbeiski/Project/data/national_org/'\n",
    "target_path = '/home/dbeiski/Project/data/national_bydate/'"
   ]
  },
  {
   "cell_type": "code",
   "execution_count": 17,
   "metadata": {},
   "outputs": [],
   "source": [
    "def process_df(df):\n",
    "    df = df.sort_values(by=['DAY_OF_MONTH', 'CRS_DEP_TIME'])\n",
    "    df[\"DAY_OF_YEAR\"] = df[\"MONTH\"].map(str) + '_' + df[\"DAY_OF_MONTH\"].map(str)\n",
    "    return df"
   ]
  },
  {
   "cell_type": "code",
   "execution_count": 18,
   "metadata": {},
   "outputs": [],
   "source": [
    "file_list = sorted(os.listdir(source_path))\n",
    "df = pd.read_csv(source_path + file_list[1])\n",
    "df = process_df(df)\n",
    "df.to_csv(target_path + 'year_sorted.csv', mode='w')\n",
    "for fname in file_list[2:]:\n",
    "    df = pd.read_csv(source_path + fname)\n",
    "    df = process_df(df)\n",
    "    with open(target_path + 'year_sorted.csv', mode='a') as f:\n",
    "        df.to_csv(f, header=False)"
   ]
  },
  {
   "cell_type": "code",
   "execution_count": 19,
   "metadata": {},
   "outputs": [],
   "source": [
    "# source_path = '/home/dbeiski/PycharmProjects/flight_data/national_bydate/'\n",
    "target_path = '/home/dbeiski/Project/FlightDelay/Data/new_york/'"
   ]
  },
  {
   "cell_type": "code",
   "execution_count": 20,
   "metadata": {},
   "outputs": [],
   "source": [
    "df = pd.read_csv('/home/dbeiski/Project/data/national_bydate/year_sorted.csv')\n",
    "df_dep = df[df['ORIGIN'] == 'LGA']"
   ]
  },
  {
   "cell_type": "code",
   "execution_count": 21,
   "metadata": {},
   "outputs": [],
   "source": [
    "df_dep.to_csv(target_path + 'year_lga_dep.csv')"
   ]
  },
  {
   "cell_type": "code",
   "execution_count": null,
   "metadata": {},
   "outputs": [],
   "source": []
  }
 ],
 "metadata": {
  "hide_input": false,
  "kernelspec": {
   "display_name": "Python 3",
   "language": "python",
   "name": "python3"
  },
  "language_info": {
   "codemirror_mode": {
    "name": "ipython",
    "version": 3
   },
   "file_extension": ".py",
   "mimetype": "text/x-python",
   "name": "python",
   "nbconvert_exporter": "python",
   "pygments_lexer": "ipython3",
   "version": "3.5.2"
  },
  "varInspector": {
   "cols": {
    "lenName": 16,
    "lenType": 16,
    "lenVar": 40
   },
   "kernels_config": {
    "python": {
     "delete_cmd_postfix": "",
     "delete_cmd_prefix": "del ",
     "library": "var_list.py",
     "varRefreshCmd": "print(var_dic_list())"
    },
    "r": {
     "delete_cmd_postfix": ") ",
     "delete_cmd_prefix": "rm(",
     "library": "var_list.r",
     "varRefreshCmd": "cat(var_dic_list()) "
    }
   },
   "types_to_exclude": [
    "module",
    "function",
    "builtin_function_or_method",
    "instance",
    "_Feature"
   ],
   "window_display": true
  }
 },
 "nbformat": 4,
 "nbformat_minor": 2
}
